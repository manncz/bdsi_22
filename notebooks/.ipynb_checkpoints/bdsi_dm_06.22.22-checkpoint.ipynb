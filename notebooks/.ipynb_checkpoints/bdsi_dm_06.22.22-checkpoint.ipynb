{
 "cells": [
  {
   "cell_type": "markdown",
   "id": "d1c0525a",
   "metadata": {},
   "source": [
    "# BDSI Data Mining Group\n",
    "# Example Data Build and EDA - 6/22/22"
   ]
  },
  {
   "cell_type": "code",
   "execution_count": null,
   "id": "d66a35ea",
   "metadata": {},
   "outputs": [],
   "source": [
    "library(tidyr)\n",
    "library(dplyr)\n",
    "library(stringr)\n",
    "library(ggplot2)\n",
    "library(repr)\n",
    "library(maps)\n",
    "\n",
    "# Change Jupyter plots size to 15x10 - much easier to see\n",
    "options(repr.plot.width=15, repr.plot.height=10)"
   ]
  },
  {
   "cell_type": "markdown",
   "id": "e5f1d861",
   "metadata": {},
   "source": [
    "## Mortality Data"
   ]
  },
  {
   "cell_type": "markdown",
   "id": "faca0cf7",
   "metadata": {},
   "source": [
    "First, I will look at the mortality data that I downloaded from CDC WONDER."
   ]
  },
  {
   "cell_type": "code",
   "execution_count": null,
   "id": "aa171473",
   "metadata": {},
   "outputs": [],
   "source": [
    "mort_raw <- read.delim(\"../raw-data/WONDER/mort_9920_state_year.txt\")"
   ]
  },
  {
   "cell_type": "code",
   "execution_count": null,
   "id": "0a474fa7",
   "metadata": {},
   "outputs": [],
   "source": [
    "head(mort_raw)\n",
    "summary(mort_raw)"
   ]
  },
  {
   "cell_type": "markdown",
   "id": "6d3da527",
   "metadata": {},
   "source": [
    "The data has 8 variables, and it looks like the `Year` and `Year.Code` variables are the same. There is also a `Notes` column, that I don't think I need\n",
    "\n",
    "The other thing I notice is that there are a lot of missing entries in the `Year` column, which seems weird, let's check it out."
   ]
  },
  {
   "cell_type": "code",
   "execution_count": null,
   "id": "95dfa80e",
   "metadata": {},
   "outputs": [],
   "source": [
    "mort_raw %>%\n",
    "    filter(is.na(Year))"
   ]
  },
  {
   "cell_type": "markdown",
   "id": "e921b45e",
   "metadata": {},
   "source": [
    "When `Year` is missing, it is either a Total value across all years for a state, or there are a bunch of rows for just notes at the bottom. I don't want any of these rows to be included.\n",
    "\n",
    "I will drop all of those rows and also only keep the columns that I need, renaming them to names that make sense to me. I personally don't like having capitilized column names."
   ]
  },
  {
   "cell_type": "code",
   "execution_count": null,
   "id": "b91a16e1",
   "metadata": {},
   "outputs": [],
   "source": [
    "mort <- mort_raw %>%\n",
    "    filter(!is.na(Year)) %>%\n",
    "    select(stateName = State,\n",
    "            stateFIPS = State.Code,\n",
    "            year = Year,\n",
    "            mort = Deaths,\n",
    "            pop = Population)"
   ]
  },
  {
   "cell_type": "code",
   "execution_count": null,
   "id": "65ffc08a",
   "metadata": {
    "scrolled": true
   },
   "outputs": [],
   "source": [
    "head(mort)"
   ]
  },
  {
   "cell_type": "markdown",
   "id": "935c799d",
   "metadata": {},
   "source": [
    "Now we have a nice neat mortality dataset!"
   ]
  },
  {
   "cell_type": "markdown",
   "id": "d31d2509",
   "metadata": {},
   "source": [
    "## Opioid Use Data"
   ]
  },
  {
   "cell_type": "markdown",
   "id": "fdad8ae1",
   "metadata": {},
   "source": [
    "The CDC reports [opioid dispensing rates](https://www.cdc.gov/drugoverdose/rxrate-maps/state2006.html) per 100 people, by state and year from 2006-2020. Unfortunately the website does not allow for a direct download of the data, so instead we will use the `rvest` package to do some web scraping. I followed [this](https://www.dataquest.io/blog/web-scraping-in-r-rvest/) tutorial."
   ]
  },
  {
   "cell_type": "code",
   "execution_count": null,
   "id": "ceb1ae2e",
   "metadata": {},
   "outputs": [],
   "source": [
    "library(rvest)"
   ]
  },
  {
   "cell_type": "code",
   "execution_count": null,
   "id": "ef77f0c5",
   "metadata": {},
   "outputs": [],
   "source": [
    "wb <- read_html(\"https://www.cdc.gov/drugoverdose/rxrate-maps/state2006.html\")"
   ]
  },
  {
   "cell_type": "markdown",
   "id": "9860ead9",
   "metadata": {},
   "source": [
    "Using the developer tools in Chrome, I was able to check out the html enough to see that the table with the data was contained in a node with the tag `.container`."
   ]
  },
  {
   "cell_type": "code",
   "execution_count": null,
   "id": "0f4f9d7f",
   "metadata": {},
   "outputs": [],
   "source": [
    "html.raw <- wb %>%\n",
    "  html_nodes(\".container\") %>%\n",
    "  html_text()"
   ]
  },
  {
   "cell_type": "markdown",
   "id": "28ba882c",
   "metadata": {},
   "source": [
    "I figured out the next couple of steps by looking at the raw html that was pulled in the previous step. This can be a reference for later use, but it is not important to understand the details today."
   ]
  },
  {
   "cell_type": "code",
   "execution_count": null,
   "id": "cd5a86e1",
   "metadata": {},
   "outputs": [],
   "source": [
    "table <- html.raw[str_detect(html.raw, \"Hawaii\")]"
   ]
  },
  {
   "cell_type": "code",
   "execution_count": null,
   "id": "6a10f467",
   "metadata": {},
   "outputs": [],
   "source": [
    "table <- str_sub(table, str_locate(table, \"per 100\\n\")[1,2]+1, str_locate(table, \"WY\\\\n\\\\d+\\\\.\\\\d+\")[1,2])"
   ]
  },
  {
   "cell_type": "markdown",
   "id": "c2ab04a0",
   "metadata": {},
   "source": [
    "At this point, I have only the data that I want for the table, however it is all in one long string. So, I need to split the string correctly and then reformat it into a table shape."
   ]
  },
  {
   "cell_type": "code",
   "execution_count": null,
   "id": "78dfe1c6",
   "metadata": {},
   "outputs": [],
   "source": [
    "table"
   ]
  },
  {
   "cell_type": "code",
   "execution_count": null,
   "id": "db70d9ab",
   "metadata": {},
   "outputs": [],
   "source": [
    "n_rows <- str_count(table,\"\\\\n\\\\d+\\\\.?\\\\d+\\\\n?\")"
   ]
  },
  {
   "cell_type": "code",
   "execution_count": null,
   "id": "f09539d6",
   "metadata": {},
   "outputs": [],
   "source": [
    "table <- str_split_fixed(table, \"\\\\n\", n = n_rows*3) %>%\n",
    "   matrix(ncol = 3, byrow=T) %>%\n",
    "   data.frame() %>%\n",
    "   mutate(year = 2006)"
   ]
  },
  {
   "cell_type": "code",
   "execution_count": null,
   "id": "15352c0e",
   "metadata": {
    "scrolled": true
   },
   "outputs": [],
   "source": [
    "colnames(table) <- c(\"stateName\", \"stateAbr\", \"opioid_disp\", \"year\")"
   ]
  },
  {
   "cell_type": "code",
   "execution_count": null,
   "id": "aed05010",
   "metadata": {},
   "outputs": [],
   "source": [
    "head(table)"
   ]
  },
  {
   "cell_type": "markdown",
   "id": "cfd5f249",
   "metadata": {},
   "source": [
    "That is what we want!! Now, I will write a loop to do this for each year and append all of the year's data together."
   ]
  },
  {
   "cell_type": "code",
   "execution_count": null,
   "id": "a4df477f",
   "metadata": {},
   "outputs": [],
   "source": [
    "table.full <- table"
   ]
  },
  {
   "cell_type": "code",
   "execution_count": null,
   "id": "eaaf4705",
   "metadata": {
    "scrolled": true
   },
   "outputs": [],
   "source": [
    "for(y in 2007:2020){\n",
    "    \n",
    "    print(y)\n",
    "    \n",
    "    # get the raw html for a specific year of the table\n",
    "    html.raw <- read_html(paste0(\"https://www.cdc.gov/drugoverdose/rxrate-maps/state\",y,\".html\")) %>%\n",
    "       html_nodes(\".container\") %>%\n",
    "       html_text()\n",
    "    \n",
    "    # parse the string to pull out the desired table data\n",
    "    table.raw <- html.raw[str_detect(html.raw, \"Hawaii\")]\n",
    "    table.raw <- str_sub(table.raw, \n",
    "                         str_locate(table.raw, \"Abbreviation\\\\nOpioid Dispensing Rate per 100\\\\n\")[1,2]+1, \n",
    "                         str_locate(table.raw, \"WY\\\\n\\\\d+\\\\.\\\\d+\")[1,2])\n",
    "    \n",
    "    # reshape the raw numers in to a table\n",
    "    n_rows <- str_count(table.raw,\"\\\\n\\\\d+\\\\.?\\\\d+\\\\n?\")\n",
    "    #print(n_rows)\n",
    "    \n",
    "    table <- str_split_fixed(table.raw, \"\\\\n\", n = n_rows*3) %>%\n",
    "       matrix(ncol = 3, byrow=T) %>%\n",
    "       data.frame() %>%\n",
    "       mutate(year = y)\n",
    "    \n",
    "    # clean up\n",
    "    colnames(table) <- c(\"stateName\", \"stateAbr\", \"opioid_disp\", \"year\")\n",
    "    \n",
    "    #print(table)\n",
    "    \n",
    "    # append all years in one table\n",
    "    table.full <- rbind(table.full, table)\n",
    "    \n",
    "}"
   ]
  },
  {
   "cell_type": "markdown",
   "id": "ddeb9151",
   "metadata": {},
   "source": [
    "There is something different about the 2020 table"
   ]
  },
  {
   "cell_type": "code",
   "execution_count": null,
   "id": "0f5b2884",
   "metadata": {},
   "outputs": [],
   "source": [
    "html.raw <- read_html(paste0(\"https://www.cdc.gov/drugoverdose/rxrate-maps/state\",2020,\".html\")) %>%\n",
    "       html_nodes(\".container\") %>%\n",
    "       html_text()"
   ]
  },
  {
   "cell_type": "markdown",
   "id": "2da96617",
   "metadata": {},
   "source": [
    "The data isn't available easily, so we will just manually copy this table into a .csv and load it."
   ]
  },
  {
   "cell_type": "code",
   "execution_count": null,
   "id": "27364671",
   "metadata": {},
   "outputs": [],
   "source": [
    "table.raw <- read.csv(\"../raw-data/opioid/opioid_disp_2020.csv\", header = FALSE) "
   ]
  },
  {
   "cell_type": "code",
   "execution_count": null,
   "id": "a2bf3401",
   "metadata": {},
   "outputs": [],
   "source": [
    "table <- table.raw %>%\n",
    "    select(-V4) %>%\n",
    "    rename(stateName = V1, stateAbr = V2, opioid_disp = V3) %>%\n",
    "    mutate(year = 2020)"
   ]
  },
  {
   "cell_type": "code",
   "execution_count": null,
   "id": "2ac5e0e8",
   "metadata": {
    "scrolled": true
   },
   "outputs": [],
   "source": [
    "head(table)"
   ]
  },
  {
   "cell_type": "code",
   "execution_count": null,
   "id": "3dadf7a4",
   "metadata": {},
   "outputs": [],
   "source": [
    "table.full <- rbind(table.full, table)"
   ]
  },
  {
   "cell_type": "code",
   "execution_count": null,
   "id": "da985f9a",
   "metadata": {
    "scrolled": true
   },
   "outputs": [],
   "source": [
    "table(table.full$year)"
   ]
  },
  {
   "cell_type": "code",
   "execution_count": null,
   "id": "4caf082e",
   "metadata": {
    "scrolled": false
   },
   "outputs": [],
   "source": [
    "table(table.full$stateAbr)"
   ]
  },
  {
   "cell_type": "code",
   "execution_count": null,
   "id": "ba2bd0be",
   "metadata": {},
   "outputs": [],
   "source": [
    "opioid_dat <- table.full %>%\n",
    "    filter(stateAbr != \"US\") %>%\n",
    "    mutate(opioid_disp = as.numeric(opioid_disp))"
   ]
  },
  {
   "cell_type": "markdown",
   "id": "6a13d082",
   "metadata": {},
   "source": [
    "We check that the opioid data will merge with the other data on `stateName` since the opioid data does not have `stateFIPS`."
   ]
  },
  {
   "cell_type": "code",
   "execution_count": null,
   "id": "77ab6417",
   "metadata": {
    "scrolled": true
   },
   "outputs": [],
   "source": [
    "sum(!(opioid_dat$stateName %in% unique(mort$stateName)))"
   ]
  },
  {
   "cell_type": "markdown",
   "id": "f0c7dfcd",
   "metadata": {},
   "source": [
    "Saving the opioid mortality and dispensing data for exploration before BDSI started:"
   ]
  },
  {
   "cell_type": "code",
   "execution_count": null,
   "id": "2f04ac0d",
   "metadata": {},
   "outputs": [],
   "source": [
    "mort_disp_dat <- mort %>%\n",
    "    left_join(opioid_dat %>% select(-stateAbr), by = c(\"stateName\", \"year\")) %>%\n",
    "    select(stateName, stateFIPS, everything())"
   ]
  },
  {
   "cell_type": "code",
   "execution_count": null,
   "id": "f14cad3b",
   "metadata": {},
   "outputs": [],
   "source": [
    "head(mort_disp_dat, n = 23)"
   ]
  },
  {
   "cell_type": "code",
   "execution_count": null,
   "id": "ed30c4d1",
   "metadata": {},
   "outputs": [],
   "source": [
    "save(mort_disp_dat, file = \"../temp/overdoseMortDisp.Rdata\")\n",
    "write.csv(mort_disp_dat, file = \"../temp/overdoseMortDisp.csv\")"
   ]
  },
  {
   "cell_type": "markdown",
   "id": "3684d339",
   "metadata": {},
   "source": [
    "## AHRF Data"
   ]
  },
  {
   "cell_type": "markdown",
   "id": "cf21b025",
   "metadata": {},
   "source": [
    "For covariate data, I am going to use the AHRF data, starting by loading the cleaned data from yesterday."
   ]
  },
  {
   "cell_type": "code",
   "execution_count": null,
   "id": "8892c4ed",
   "metadata": {},
   "outputs": [],
   "source": [
    "load(\"../temp/ahrfDat.Rdata\")"
   ]
  },
  {
   "cell_type": "code",
   "execution_count": null,
   "id": "96b069b7",
   "metadata": {},
   "outputs": [],
   "source": [
    "head(ahrf)"
   ]
  },
  {
   "cell_type": "markdown",
   "id": "ff6985af",
   "metadata": {},
   "source": [
    "But that data is at the county level, while hte mortality data we can use is at the state level. Since these are all numeric variables, I will just take the mean for the whole state using the `summarize` function. I take a weighted mean to take the county sizes into account."
   ]
  },
  {
   "cell_type": "code",
   "execution_count": null,
   "id": "4b7f502e",
   "metadata": {},
   "outputs": [],
   "source": [
    "ahrf_state <- ahrf %>%\n",
    "    group_by(stateFIPS, stateName) %>%\n",
    "    summarize(across(pctUrban_2010:popDens_2010, ~weighted.mean(.x, w = pop_2010, na.rm = T))) %>%\n",
    "    mutate(stateFIPS = as.numeric(stateFIPS))"
   ]
  },
  {
   "cell_type": "code",
   "execution_count": null,
   "id": "c4210d8b",
   "metadata": {},
   "outputs": [],
   "source": [
    "head(ahrf_state)"
   ]
  },
  {
   "cell_type": "markdown",
   "id": "1265a149",
   "metadata": {},
   "source": [
    "## Combined Data"
   ]
  },
  {
   "cell_type": "markdown",
   "id": "e0d83251",
   "metadata": {},
   "source": [
    "Now I can use `left_join` to merge the covariate AHRF data with the mortality counts."
   ]
  },
  {
   "cell_type": "code",
   "execution_count": null,
   "id": "8d30970d",
   "metadata": {},
   "outputs": [],
   "source": [
    "dat <- mort %>%\n",
    "    left_join(ahrf_state %>% select(-stateName), by = c(\"stateFIPS\")) %>%\n",
    "    left_join(opioid_dat, by = c(\"year\", \"stateName\"))"
   ]
  },
  {
   "cell_type": "code",
   "execution_count": null,
   "id": "fe6ca462",
   "metadata": {},
   "outputs": [],
   "source": [
    "head(dat, n = 20)"
   ]
  },
  {
   "cell_type": "markdown",
   "id": "68c46d46",
   "metadata": {},
   "source": [
    "Before using this data, I want to check if the merge fully worked. I will check if any of the states with mortality data are missing covariate information."
   ]
  },
  {
   "cell_type": "code",
   "execution_count": null,
   "id": "2403d21a",
   "metadata": {
    "scrolled": true
   },
   "outputs": [],
   "source": [
    "dat %>%\n",
    "    filter(is.na(medIncome_2019)) %>%\n",
    "    group_by(stateName, stateFIPS) %>%\n",
    "    summarize(n= n())"
   ]
  },
  {
   "cell_type": "markdown",
   "id": "b50e3e42",
   "metadata": {},
   "source": [
    "All good! The last thing I want to do is calculate a mortality rate."
   ]
  },
  {
   "cell_type": "code",
   "execution_count": null,
   "id": "8795069e",
   "metadata": {},
   "outputs": [],
   "source": [
    "dat <- dat %>%\n",
    "    mutate(rate = mort/pop*100000)"
   ]
  },
  {
   "cell_type": "code",
   "execution_count": null,
   "id": "2f389c47",
   "metadata": {
    "scrolled": true
   },
   "outputs": [],
   "source": [
    "head(dat)"
   ]
  },
  {
   "cell_type": "code",
   "execution_count": null,
   "id": "bb90aad9",
   "metadata": {},
   "outputs": [],
   "source": [
    "save(dat, file = \"../temp/overdoseDatFull.Rdata\")"
   ]
  },
  {
   "cell_type": "markdown",
   "id": "6c4ebf54",
   "metadata": {},
   "source": [
    "## Exploratory Data Analysis"
   ]
  },
  {
   "cell_type": "markdown",
   "id": "25b5c786",
   "metadata": {},
   "source": [
    "### Mortality Rate Trends"
   ]
  },
  {
   "cell_type": "markdown",
   "id": "eeccd1ef",
   "metadata": {},
   "source": [
    "The first thing that I want to do is look at the change in overdose mortality rates for the country as a whole year to year."
   ]
  },
  {
   "cell_type": "markdown",
   "id": "b7722f0e",
   "metadata": {},
   "source": [
    "**Check In:** What does the function `lag()` do?"
   ]
  },
  {
   "cell_type": "code",
   "execution_count": null,
   "id": "56921c33",
   "metadata": {},
   "outputs": [],
   "source": [
    "summary(dat$opioid_disp)"
   ]
  },
  {
   "cell_type": "code",
   "execution_count": null,
   "id": "d8ba6d66",
   "metadata": {
    "scrolled": false
   },
   "outputs": [],
   "source": [
    "datOverall <- dat %>%\n",
    "    ungroup() %>%\n",
    "    group_by(year) %>% # summarize data across states, but by year\n",
    "    summarise(opioid_disp = sum(opioid_disp * pop),\n",
    "              mort = sum(mort), \n",
    "              pop = sum(pop)) %>%\n",
    "    ungroup() %>% # I ungroup to make sure the lag function works correctly\n",
    "    mutate(rate = mort/pop*100000,\n",
    "           opioid_disp = opioid_disp/pop,\n",
    "           perc_change_mort = (rate-lag(rate))/lag(rate), # you can use a variable that you just created to calculate a new variable!\n",
    "           perc_change_disp = (opioid_disp-lag(opioid_disp))/lag(opioid_disp))\n",
    "\n",
    "\n",
    "datOverall"
   ]
  },
  {
   "cell_type": "markdown",
   "id": "ffa1f236",
   "metadata": {},
   "source": [
    "While we don't have mortality data for 2021, we replicated the figure in the article claiming that deaths rose by 30% in 2020.\n",
    "\n",
    "One thing that I notice is that there appears to be some fluctuation over time in how much the deaths increased year by year. For instance, in 2016 deaths increased by 20% but then by between -5% and 10% in the following couple of years."
   ]
  },
  {
   "cell_type": "markdown",
   "id": "41dc16c2",
   "metadata": {},
   "source": [
    "We also replicated the values found on the CDC website for opioid prescriptions / 100 people in the US overall by year found [here](https://www.cdc.gov/drugoverdose/rxrate-maps/index.html)."
   ]
  },
  {
   "cell_type": "markdown",
   "id": "87bab1d3",
   "metadata": {},
   "source": [
    "#### Graphics with `ggplot2`"
   ]
  },
  {
   "cell_type": "markdown",
   "id": "01cad13c",
   "metadata": {},
   "source": [
    "I prefer to use `ggplot2` for graphics in `R` over base plotting. There is a lot of flexibility in what you plot as well as how it looks, so you can make very pretty and professional graphics! \n",
    "\n",
    "`ggplot2` relies on creating layers of graphics with aesthetics. Like we use the pipe `%>%` for `tidyr` and `dplyr`, when using `ggplot2`, we add layers and elements to a `ggplot` object with a plus `+`.\n",
    "\n",
    "You can refer to this [tutorial](http://r-statistics.co/ggplot2-Tutorial-With-R.html) for more information."
   ]
  },
  {
   "cell_type": "markdown",
   "id": "c87342e8",
   "metadata": {},
   "source": [
    "We can initialize a `ggplot` object with the `ggplot(df)` function:"
   ]
  },
  {
   "cell_type": "code",
   "execution_count": null,
   "id": "ade2663a",
   "metadata": {},
   "outputs": [],
   "source": [
    "g <- ggplot(data = datOverall)"
   ]
  },
  {
   "cell_type": "markdown",
   "id": "8defc804",
   "metadata": {},
   "source": [
    "To create a line plot based on this object, we will add a `geom_line` layer (also called a geom) and define aesthetics using `aes()`."
   ]
  },
  {
   "cell_type": "code",
   "execution_count": null,
   "id": "08736cb2",
   "metadata": {},
   "outputs": [],
   "source": [
    "g + geom_line(aes(x = year, y = rate))"
   ]
  },
  {
   "cell_type": "markdown",
   "id": "148bb49c",
   "metadata": {},
   "source": [
    "You can instead add the aesthetics to the original `ggplot` command."
   ]
  },
  {
   "cell_type": "code",
   "execution_count": null,
   "id": "f0242b31",
   "metadata": {
    "scrolled": true
   },
   "outputs": [],
   "source": [
    "g <- ggplot(aes(x = year, y = perc_change_mort), data = datOverall) +\n",
    "    geom_line()\n",
    "g"
   ]
  },
  {
   "cell_type": "markdown",
   "id": "40a5d181",
   "metadata": {},
   "source": [
    "**Check In:** What is the warning indicating? Are we concerned about this warning?"
   ]
  },
  {
   "cell_type": "code",
   "execution_count": null,
   "id": "2c44c932",
   "metadata": {
    "scrolled": true
   },
   "outputs": [],
   "source": [
    "g <- ggplot(aes(x = year, y = opioid_disp), data = datOverall %>% filter(year > 2005)) +\n",
    "    geom_line()\n",
    "g"
   ]
  },
  {
   "cell_type": "markdown",
   "id": "90fb14d1",
   "metadata": {},
   "source": [
    "What we see is that opioid prescriptions have actually been going down over time, while the mortality has been erratic and went up in 2019 and 2020."
   ]
  },
  {
   "cell_type": "code",
   "execution_count": null,
   "id": "4a67913c",
   "metadata": {
    "scrolled": true
   },
   "outputs": [],
   "source": [
    "g <- ggplot(aes(x = year, y = perc_change_disp), data = datOverall %>% filter(year > 2005)) +\n",
    "    geom_line(color = \"#2c7fb8\") +\n",
    "    geom_line(aes(y = perc_change_mort), color = \"#c51b8a\") +\n",
    "    geom_abline(intercept = 0, slope = 0)\n",
    "g"
   ]
  },
  {
   "cell_type": "markdown",
   "id": "5841a0b2",
   "metadata": {},
   "source": [
    "Now lets see if the trends differ at all by state. \n",
    "\n",
    "First, I will add another element to the aesthetics - saying to color the lines by state."
   ]
  },
  {
   "cell_type": "code",
   "execution_count": null,
   "id": "d3d4dc0a",
   "metadata": {},
   "outputs": [],
   "source": [
    "g <- ggplot(aes(x = year, y = rate), data = dat) +\n",
    "    geom_line(aes(color = stateName))"
   ]
  },
  {
   "cell_type": "code",
   "execution_count": null,
   "id": "b61ba7a1",
   "metadata": {
    "scrolled": false
   },
   "outputs": [],
   "source": [
    "g"
   ]
  },
  {
   "cell_type": "markdown",
   "id": "1462ebf5",
   "metadata": {},
   "source": [
    "To compare see now the individual states compare to the overall mortality rate, I will add a layer with the overall mortality rate. The aesthetics can remain the same, but I need to specify to use the other dataset `datOverall`."
   ]
  },
  {
   "cell_type": "code",
   "execution_count": null,
   "id": "dba769b4",
   "metadata": {},
   "outputs": [],
   "source": [
    "g + geom_line(data = datOverall)"
   ]
  },
  {
   "cell_type": "markdown",
   "id": "3a312f1d",
   "metadata": {},
   "source": [
    "**Check In:** Why is the layer that I just added with `datOverall` only black and not colored by stateName?"
   ]
  },
  {
   "cell_type": "markdown",
   "id": "69d56714",
   "metadata": {},
   "source": [
    "There is quite a bit of variation around the overall death rate, with a couple of states in particular appearing to have high mortality rates. It's a bit hard to see which state is which this way, so let's instead plot this as facets.\n",
    "\n",
    "You can add facets using either `facet_wrap` or `facet_grid` with ggplot. They can acheive more or less the same plots, but "
   ]
  },
  {
   "cell_type": "code",
   "execution_count": null,
   "id": "b4533e12",
   "metadata": {},
   "outputs": [],
   "source": [
    "?facet_wrap\n",
    "?facet_grid"
   ]
  },
  {
   "cell_type": "code",
   "execution_count": null,
   "id": "68ac7cac",
   "metadata": {},
   "outputs": [],
   "source": [
    "g + facet_wrap(~stateName) +\n",
    "    theme(legend.position = \"None\")"
   ]
  },
  {
   "cell_type": "markdown",
   "id": "5415f7f8",
   "metadata": {},
   "source": [
    "**Check in:** Which state's trends stand out to you? What questions do you have about why the trend in overdose deaths differs by state?"
   ]
  },
  {
   "cell_type": "markdown",
   "id": "bed14f00",
   "metadata": {},
   "source": [
    " ### Geographic Trends\n",
    " \n",
    " Let's see what these trends look like when we look at them on a map of the US."
   ]
  },
  {
   "cell_type": "markdown",
   "id": "0a742c28",
   "metadata": {},
   "source": [
    "`ggplot2` makes it easy to make really nice looking maps. First, we will load data from the package `maps`, which provides shape information for US states."
   ]
  },
  {
   "cell_type": "code",
   "execution_count": null,
   "id": "2536f992",
   "metadata": {
    "scrolled": true
   },
   "outputs": [],
   "source": [
    "states <- map_data(\"state\")\n",
    "head(states)"
   ]
  },
  {
   "cell_type": "code",
   "execution_count": null,
   "id": "3b8a2126",
   "metadata": {},
   "outputs": [],
   "source": [
    "plotDat <- dat %>%\n",
    "    mutate(stateName = str_to_lower(stateName)) %>%\n",
    "    right_join(states, by = c(\"stateName\" = \"region\"))"
   ]
  },
  {
   "cell_type": "code",
   "execution_count": null,
   "id": "a70f43bf",
   "metadata": {},
   "outputs": [],
   "source": [
    "head(plotDat)"
   ]
  },
  {
   "cell_type": "markdown",
   "id": "bd124df5",
   "metadata": {},
   "source": [
    "We'll check again that this merged correctly"
   ]
  },
  {
   "cell_type": "code",
   "execution_count": null,
   "id": "eb8d2b46",
   "metadata": {},
   "outputs": [],
   "source": [
    "plotDat %>%\n",
    "    filter(is.na(long)) %>%\n",
    "    nrow()"
   ]
  },
  {
   "cell_type": "code",
   "execution_count": null,
   "id": "6e1f72a6",
   "metadata": {},
   "outputs": [],
   "source": [
    "?coord_map"
   ]
  },
  {
   "cell_type": "code",
   "execution_count": null,
   "id": "d5c12b98",
   "metadata": {},
   "outputs": [],
   "source": [
    "g <- ggplot() +\n",
    "  geom_polygon(data = plotDat, aes(x=long, y=lat, # x and lat and long\n",
    "                                   group = group, # important to include the group to create states\n",
    "                                   fill = rate), # fill colors as mortality rate\n",
    "               ) +\n",
    "  coord_map(projection = \"albers\", lat0 = 30, lat1 = 40, # the albers projection requires extra parameters \n",
    "            xlim = c(-122, -72)) +\n",
    "  scale_fill_distiller(palette = \"Spectral\") + \n",
    "  xlab(\"\") + ylab(\"\") +\n",
    "  theme(plot.title = element_text(hjust = 0.5),\n",
    "        panel.border = element_blank(),\n",
    "        panel.grid.major = element_blank(),\n",
    "        panel.grid.minor = element_blank(),\n",
    "        axis.text = element_blank(),\n",
    "        axis.ticks = element_blank(),\n",
    "        legend.position = \"bottom\",\n",
    "  )\n",
    "g + facet_wrap(~year)"
   ]
  },
  {
   "cell_type": "markdown",
   "id": "55889b32",
   "metadata": {},
   "source": [
    "I want to get a closer look at each year's map. Also, while this is helpful for seeing change over time, in the earlier years it is hard to see how the states differ due to the coloring. I can reconfigure the plotting code so that it is easy to look at each year individually without copying a huge chunk of code."
   ]
  },
  {
   "cell_type": "code",
   "execution_count": null,
   "id": "28905db5",
   "metadata": {},
   "outputs": [],
   "source": [
    "g <- ggplot(aes(x=long, y=lat, group = group, fill = rate), data = plotDat)+ \n",
    "  coord_map(projection = \"albers\", lat0 = 30, lat1 = 40, # the albers projection requires extra parameters \n",
    "            xlim = c(-122, -72)) +\n",
    "  scale_fill_distiller(palette = \"Spectral\") + \n",
    "  xlab(\"\") + ylab(\"\") +\n",
    "  theme(plot.title = element_text(hjust = 0.5),\n",
    "        panel.border = element_blank(),\n",
    "        panel.grid.major = element_blank(),\n",
    "        panel.grid.minor = element_blank(),\n",
    "        axis.text = element_blank(),\n",
    "        axis.ticks = element_blank(),\n",
    "        legend.position = \"bottom\",\n",
    "  )"
   ]
  },
  {
   "cell_type": "markdown",
   "id": "bff91d34",
   "metadata": {},
   "source": [
    "**Check In:** What did I change in the way that I defined `g` and why?"
   ]
  },
  {
   "cell_type": "markdown",
   "id": "6eb482b6",
   "metadata": {},
   "source": [
    "Now I only have to add a single layer to the base ggplot object to make a plot for each year."
   ]
  },
  {
   "cell_type": "code",
   "execution_count": null,
   "id": "420b712d",
   "metadata": {},
   "outputs": [],
   "source": [
    "g + geom_polygon(data = plotDat %>% filter(year == 2020))"
   ]
  },
  {
   "cell_type": "markdown",
   "id": "939f0363",
   "metadata": {},
   "source": [
    "Since it would take up a lot of space here to print out every year, I am going to save the plots as .png files to look at and send to my teammates."
   ]
  },
  {
   "cell_type": "code",
   "execution_count": null,
   "id": "90678ba7",
   "metadata": {},
   "outputs": [],
   "source": [
    "for (y in 1999:2020){\n",
    "    \n",
    "    gy <- g + geom_polygon(data = plotDat %>% filter(year == y)) +\n",
    "            ggtitle(y) # adding a title\n",
    "    \n",
    "    print(gy)\n",
    "    png(paste0(\"../figures/rate_map\", y, \".png\"), width = 6, height = 4, units = 'in', res = 300)\n",
    "        print(gy)\n",
    "    dev.off()\n",
    "    \n",
    "}"
   ]
  },
  {
   "cell_type": "code",
   "execution_count": null,
   "id": "118c94a8",
   "metadata": {},
   "outputs": [],
   "source": [
    "g <- ggplot(aes(x=long, y=lat, group = group, fill = opioid_disp), data = plotDat)+ \n",
    "  coord_map(projection = \"albers\", lat0 = 30, lat1 = 40, # the albers projection requires extra parameters \n",
    "            xlim = c(-122, -72)) +\n",
    "  scale_fill_distiller(palette = \"Spectral\") + \n",
    "  xlab(\"\") + ylab(\"\") +\n",
    "  theme(plot.title = element_text(hjust = 0.5),\n",
    "        panel.border = element_blank(),\n",
    "        panel.grid.major = element_blank(),\n",
    "        panel.grid.minor = element_blank(),\n",
    "        axis.text = element_blank(),\n",
    "        axis.ticks = element_blank(),\n",
    "        legend.position = \"bottom\",\n",
    "  )\n",
    "\n",
    "for (y in 2006:2020){\n",
    "    \n",
    "    gy <- g + geom_polygon(data = plotDat %>% filter(year == y)) +\n",
    "            ggtitle(y) # adding a title\n",
    "    \n",
    "    print(gy)\n",
    "    png(paste0(\"../figures/disp_rate_map\", y, \".png\"), width = 6, height = 4, units = 'in', res = 300)\n",
    "        print(gy)\n",
    "    dev.off()\n",
    "    \n",
    "}"
   ]
  },
  {
   "cell_type": "markdown",
   "id": "42551e9c",
   "metadata": {},
   "source": [
    "### Exploring related variables"
   ]
  },
  {
   "cell_type": "code",
   "execution_count": null,
   "id": "7693301b",
   "metadata": {},
   "outputs": [],
   "source": [
    "colnames(dat)"
   ]
  },
  {
   "cell_type": "markdown",
   "id": "58a0f670",
   "metadata": {},
   "source": [
    "Medicaid eligibility"
   ]
  },
  {
   "cell_type": "code",
   "execution_count": null,
   "id": "4a592d8e",
   "metadata": {
    "scrolled": true
   },
   "outputs": [],
   "source": [
    "ggplot(aes(x = mdcaidElig_2012/pop, y = rate), \n",
    "       data = dat %>% filter(mdcaidElig_2012/pop < .05)) +\n",
    "    geom_point() +\n",
    "    facet_wrap(~year)"
   ]
  },
  {
   "cell_type": "markdown",
   "id": "13a53a07",
   "metadata": {},
   "source": [
    "Urbanicity"
   ]
  },
  {
   "cell_type": "code",
   "execution_count": null,
   "id": "a4fc2dc6",
   "metadata": {
    "scrolled": true
   },
   "outputs": [],
   "source": [
    "ggplot(aes(x = pctUrban_2010, y = rate), data = dat) +\n",
    "    geom_point() +\n",
    "    facet_wrap(~year)"
   ]
  },
  {
   "cell_type": "markdown",
   "id": "2d4323ac",
   "metadata": {},
   "source": [
    "% below poverty line"
   ]
  },
  {
   "cell_type": "code",
   "execution_count": null,
   "id": "c77c9c48",
   "metadata": {
    "scrolled": true
   },
   "outputs": [],
   "source": [
    "ggplot(aes(x = pctPovty_2019, y = rate), data = dat) +\n",
    "    geom_point() +\n",
    "    facet_wrap(~year)"
   ]
  },
  {
   "cell_type": "code",
   "execution_count": null,
   "id": "7411c6d2",
   "metadata": {},
   "outputs": [],
   "source": [
    "dat %>%\n",
    "    group_by(year) %>%\n",
    "    summarize(cor = cor(pctPovty_2019, rate)) %>%\n",
    "    ggplot(aes(x = year, y = cor)) +\n",
    "    geom_line()"
   ]
  },
  {
   "cell_type": "code",
   "execution_count": null,
   "id": "82097565",
   "metadata": {},
   "outputs": [],
   "source": [
    "ggplot(aes(x = pctPovty_2019, y = rate), data = dat %>% filter(year == 1999)) +\n",
    "    geom_point()"
   ]
  },
  {
   "cell_type": "markdown",
   "id": "53eed0f0",
   "metadata": {},
   "source": [
    "Dispensing rate"
   ]
  },
  {
   "cell_type": "code",
   "execution_count": null,
   "id": "e6942628",
   "metadata": {},
   "outputs": [],
   "source": [
    "ggplot(aes(x = opioid_disp, y = rate), data = dat %>% filter(year > 2005)) +\n",
    "    geom_point() +\n",
    "    facet_wrap(~year)"
   ]
  },
  {
   "cell_type": "code",
   "execution_count": null,
   "id": "9c81cdf5",
   "metadata": {},
   "outputs": [],
   "source": [
    "ggplot(aes(x = opioid_disp, y = rate), data = dat %>% filter(year == 2007)) +\n",
    "    geom_point()"
   ]
  },
  {
   "cell_type": "markdown",
   "id": "f72a47be",
   "metadata": {},
   "source": [
    "**Exercise:** Create a couple of plots to explore the potential relationships between overdose mortality rate and the covariates"
   ]
  },
  {
   "cell_type": "code",
   "execution_count": null,
   "id": "6a53e1b6",
   "metadata": {},
   "outputs": [],
   "source": [
    "## YOUR CODE HERE ##"
   ]
  }
 ],
 "metadata": {
  "kernelspec": {
   "display_name": "R",
   "language": "R",
   "name": "ir"
  },
  "language_info": {
   "codemirror_mode": "r",
   "file_extension": ".r",
   "mimetype": "text/x-r-source",
   "name": "R",
   "pygments_lexer": "r",
   "version": "4.2.0"
  }
 },
 "nbformat": 4,
 "nbformat_minor": 5
}
