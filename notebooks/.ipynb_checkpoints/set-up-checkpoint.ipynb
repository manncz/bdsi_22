{
 "cells": [
  {
   "cell_type": "markdown",
   "id": "ca080a46",
   "metadata": {},
   "source": [
    "# Setting Up R and Jupyter Notebooks"
   ]
  },
  {
   "cell_type": "markdown",
   "id": "aab2d469",
   "metadata": {},
   "source": [
    "## 1. Install R"
   ]
  },
  {
   "cell_type": "markdown",
   "id": "767d7f9e",
   "metadata": {},
   "source": [
    "First, download R [here](https://repo.miserver.it.umich.edu/cran/) if you do not already have it. \n",
    "\n",
    "R is the computing software we will use, but we will use a separate graphical user interface (GUI) to interact with it more easily."
   ]
  },
  {
   "cell_type": "markdown",
   "id": "ab55e55f",
   "metadata": {},
   "source": [
    "## 2. Install Python"
   ]
  },
  {
   "cell_type": "markdown",
   "id": "fe3873c3",
   "metadata": {},
   "source": [
    "While we won't be coding in Python, we need to have it installed on our computers in order to install Jupyter notebooks, which is the main way that we will be writing code."
   ]
  },
  {
   "cell_type": "markdown",
   "id": "2d33206f",
   "metadata": {},
   "source": [
    "You can download and install Python [here](https://www.python.org/downloads/)."
   ]
  },
  {
   "cell_type": "markdown",
   "id": "87ef16f7",
   "metadata": {},
   "source": [
    "## 3. Install Jupyter Notebook"
   ]
  },
  {
   "cell_type": "markdown",
   "id": "7e162be6",
   "metadata": {},
   "source": [
    "We will use `pip` in the command line to install Jupyter notebooks."
   ]
  },
  {
   "cell_type": "markdown",
   "id": "1886f65e",
   "metadata": {},
   "source": [
    "If you have a Mac computer, open the Terminal by naviating to it or searching for Terminal in the search bar:"
   ]
  },
  {
   "cell_type": "markdown",
   "id": "407153d9",
   "metadata": {},
   "source": [
    "![](images/Terminal.png)"
   ]
  },
  {
   "cell_type": "markdown",
   "id": "01da9703",
   "metadata": {},
   "source": [
    "If you have a PC, you will use the [Command Prompt](https://www.youtube.com/watch?v=uE9WgNr3OjM) or PowerShell, depending on what is available. The window should look similar to Terminal in Macs, as below. In a command window, you will type the command after the `$`, where the curser is highlighted in the image below."
   ]
  },
  {
   "cell_type": "markdown",
   "id": "bb849ab9",
   "metadata": {},
   "source": [
    "![](images/terminal_plain.png)"
   ]
  },
  {
   "cell_type": "markdown",
   "id": "4ac0c819",
   "metadata": {},
   "source": [
    "First, check if you have pip installed by typing `pip -- version` in the command line. If you get a message saying that the command `pip` is not recognized, you can try the following code and hit enter:\n",
    "\n",
    "`py -m ensurepip --upgrade`\n",
    "\n",
    "It is possible that you will have to replace \"py\" with \"python3\" in the code above. If none of this works, you can refer to [this](https://pip.pypa.io/en/stable/installation/) documentation for other methods."
   ]
  },
  {
   "cell_type": "markdown",
   "id": "cf1c8a72",
   "metadata": {},
   "source": [
    "Now type the command: `pip install notebook`\n",
    "in the terminal and hit enter. This should complete the [installation](https://jupyter.org/install). "
   ]
  },
  {
   "cell_type": "markdown",
   "id": "1913268b",
   "metadata": {},
   "source": [
    "If that doesn't work as is, you can try `py -m pip install notebook` (or replace \"py\" with \"python3\" as in above)"
   ]
  },
  {
   "cell_type": "markdown",
   "id": "c7696718",
   "metadata": {},
   "source": [
    "To check that it works, type `jupyter notebook` in the command line and hit enter. \n",
    "\n",
    "This should open a Jupyter tab in a browser window that looks something like this:"
   ]
  },
  {
   "cell_type": "markdown",
   "id": "0e418cf9",
   "metadata": {},
   "source": [
    "![](images/jupyter.png)"
   ]
  },
  {
   "cell_type": "markdown",
   "id": "fd65599d",
   "metadata": {},
   "source": [
    "You can find more informaiton about running jupyter notebooks [here](https://jupyter-notebook-beginner-guide.readthedocs.io/en/latest/execute.html) and [here](https://docs.jupyter.org/en/latest/running.html). My terminal looks like this after I open a notebook:"
   ]
  },
  {
   "cell_type": "markdown",
   "id": "2a10b84a",
   "metadata": {},
   "source": [
    "![](images/notebook.png)"
   ]
  },
  {
   "cell_type": "markdown",
   "id": "d35ca705",
   "metadata": {},
   "source": [
    "To stop the server you can use `Control-C` in the terminal or select the \"Quit\" button at the top of the Jupyter browser page that opened."
   ]
  },
  {
   "cell_type": "markdown",
   "id": "c9abd9a6",
   "metadata": {},
   "source": [
    "## 4. Configure Jupyter for R"
   ]
  },
  {
   "cell_type": "markdown",
   "id": "99b136b0",
   "metadata": {},
   "source": [
    "In order to use R in a Jupyter notebook, we need to install the R kernel."
   ]
  },
  {
   "cell_type": "markdown",
   "id": "594590f3",
   "metadata": {},
   "source": [
    "In the command line (Terminal, Command Prompt or PowerShell), start R by simply typing `R` and hitting enter as shown below:"
   ]
  },
  {
   "cell_type": "markdown",
   "id": "e7a8fb6d",
   "metadata": {},
   "source": [
    "![](images/R-terminal.png)"
   ]
  },
  {
   "cell_type": "markdown",
   "id": "8b926bb2",
   "metadata": {},
   "source": [
    "You could run any R code right here, although it would be more difficult than using a GUI. Now instead of a `$`, the prompt for a new line of code is the carrot `>`."
   ]
  },
  {
   "cell_type": "markdown",
   "id": "8aa89f6e",
   "metadata": {},
   "source": [
    "Now follow the instruction [here](https://irkernel.github.io/installation/) to install and configure the R kernel. "
   ]
  },
  {
   "cell_type": "markdown",
   "id": "0373a575",
   "metadata": {},
   "source": [
    "Open a new Jupyter notebook instance with the `jupyter notebook` command. Now you should see R as an option as shown in the image below:"
   ]
  },
  {
   "cell_type": "markdown",
   "id": "2c115be2",
   "metadata": {},
   "source": [
    "![](images/jupyter3.png)"
   ]
  },
  {
   "cell_type": "markdown",
   "id": "fc4fcc48",
   "metadata": {},
   "source": [
    "## 5. Using Jupyter notebooks"
   ]
  },
  {
   "cell_type": "markdown",
   "id": "0213f05f",
   "metadata": {},
   "source": [
    "You can start playing around with Jupyter notebooks, following [this](https://www.datacamp.com/tutorial/tutorial-jupyter-notebook) tutorial.\n"
   ]
  }
 ],
 "metadata": {
  "kernelspec": {
   "display_name": "R",
   "language": "R",
   "name": "ir"
  },
  "language_info": {
   "codemirror_mode": "r",
   "file_extension": ".r",
   "mimetype": "text/x-r-source",
   "name": "R",
   "pygments_lexer": "r",
   "version": "4.2.0"
  }
 },
 "nbformat": 4,
 "nbformat_minor": 5
}
