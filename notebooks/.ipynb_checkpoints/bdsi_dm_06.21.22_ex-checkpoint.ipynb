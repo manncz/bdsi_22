{
 "cells": [
  {
   "cell_type": "markdown",
   "metadata": {
    "id": "zBwa0iZLbpLa"
   },
   "source": [
    "# BDSI Data Mining Group\n",
    "# Day 1 - Exploring - 6/21/22"
   ]
  },
  {
   "cell_type": "markdown",
   "metadata": {
    "id": "ttEAqIy1VF77"
   },
   "source": [
    "Today will be be reading in and exploring a useful dataset which combines many different sources on population and health data. We will also use this time to start reviewing and practicing data cleaning in `R` as well as using Jupyter notebooks."
   ]
  },
  {
   "cell_type": "markdown",
   "metadata": {},
   "source": [
    "## Jupyter notebooks"
   ]
  },
  {
   "cell_type": "markdown",
   "metadata": {},
   "source": [
    "Take a moment to read [this](https://nbviewer.org/github/jupyter/notebook/blob/main/docs/source/examples/Notebook/Notebook%20Basics.ipynb) and practice adding a Markdown cell, a code cell, and then deleting both of them using shortcuts. This [website](https://towardsdatascience.com/jypyter-notebook-shortcuts-bf0101a98330) has a useful summary of shortcuts."
   ]
  },
  {
   "cell_type": "markdown",
   "metadata": {},
   "source": [
    "## R packages "
   ]
  },
  {
   "cell_type": "markdown",
   "metadata": {
    "id": "kPeMWtLSb504"
   },
   "source": [
    "We will use the packages `tidyr`, `dplyr`, and `stringr` for data cleaning and `ggplot2` for visualization. You can find nice cheatsheets for these different packages [here](https://www.rstudio.com/resources/cheatsheets/). Please download and save them in a place you will be able to find them!\n",
    "\n",
    "You will also get more formal review of these packages during morning lectures on Thursday and Friday."
   ]
  },
  {
   "cell_type": "code",
   "execution_count": null,
   "metadata": {
    "colab": {
     "base_uri": "https://localhost:8080/"
    },
    "executionInfo": {
     "elapsed": 868,
     "status": "ok",
     "timestamp": 1652383437417,
     "user": {
      "displayName": "Charlotte Mann",
      "userId": "00288824314437312782"
     },
     "user_tz": 240
    },
    "id": "4NKwbSeMbalB",
    "outputId": "f6f32f51-92b4-4f25-83ec-a31e606c13a5",
    "scrolled": false
   },
   "outputs": [],
   "source": [
    "library(tidyr)\n",
    "library(dplyr)\n",
    "library(stringr)\n",
    "library(ggplot2)"
   ]
  },
  {
   "cell_type": "markdown",
   "metadata": {
    "id": "EdjDkr1pfBQH"
   },
   "source": [
    "## AHRF Data"
   ]
  },
  {
   "cell_type": "markdown",
   "metadata": {
    "id": "WXDJHkaGfa7j"
   },
   "source": [
    "We will be looking at the **Area Health Resources Files** provided by the Health Resources & Services Administration.\n",
    "\n",
    "From the [website](https://data.hrsa.gov/data/download): This dataset provides current as well as historic data for more than 6,000 variables for each of the nation’s counties, as well as state and national data. It contains information on health facilities, health professions, measures of resource scarcity, health status, economic activity, health training programs, and socioeconomic and environmental characteristics. In addition, the basic file contains geographic codes and descriptors which enable it to be linked to many other files and to aggregate counties into various geographic groupings. The Area Health Resources Files (AHRF) data are designed to be used by planners, policymakers, researchers, and others interested in the nation’s health care delivery system and factors that may impact health status and health care in the United States. The AHRF data includes county, state, and national-level files in eight broad areas: Health Care Professions, Health Facilities, Population Characteristics, Economics, Health Professions Training, Hospital Utilization, Hospital Expenditures, and Environment. The AHRF data are obtained from more than 60 sources. The AHRF has county, state, and national level files from the HRSA, Bureau of Health Workforce (BHW), National Center for Health Workforce Analysis (NCHWA) available for download."
   ]
  },
  {
   "cell_type": "markdown",
   "metadata": {
    "id": "DT3fku5bf8Ih"
   },
   "source": [
    "## Read In Data"
   ]
  },
  {
   "cell_type": "markdown",
   "metadata": {
    "id": "okvY9e3sgBO9"
   },
   "source": [
    "You can download the data from the group Canvas page. Once downloaded, place it in a folder called `AHRF` in your `raw-data` directory."
   ]
  },
  {
   "cell_type": "markdown",
   "metadata": {
    "id": "CHgJfcTE6GTl"
   },
   "source": [
    "From the documentation, we can see that the data is organized so that that each observation is a line of text and each variable takes up a specific number of characters in that line. We will use the `read_fwf` function from `readr` to read in data with this format."
   ]
  },
  {
   "cell_type": "code",
   "execution_count": null,
   "metadata": {
    "executionInfo": {
     "elapsed": 519,
     "status": "ok",
     "timestamp": 1652383443525,
     "user": {
      "displayName": "Charlotte Mann",
      "userId": "00288824314437312782"
     },
     "user_tz": 240
    },
    "id": "EyQRdo-I4Hjh"
   },
   "outputs": [],
   "source": [
    "library(readr)\n",
    "?read_fwf"
   ]
  },
  {
   "cell_type": "markdown",
   "metadata": {
    "id": "swwZwxzG6mSO"
   },
   "source": [
    "In the code below, I matched the character locations of the variables with variable names that are meaningful to me. \n",
    "\n",
    "**Exercise:** Check out the documentation [here](https://github.com/manncz/bdsi_22/blob/main/data/AHRF/ref/AHRF%202020-2021%20Technical%20Documentation.xlsx), and add the 2015-2019 \"Median Gross Rent\" variable. Call it `medRent_2019` and add it right after the `medIncome_2019` variable."
   ]
  },
  {
   "cell_type": "code",
   "execution_count": null,
   "metadata": {
    "colab": {
     "base_uri": "https://localhost:8080/"
    },
    "executionInfo": {
     "elapsed": 312,
     "status": "ok",
     "timestamp": 1652383476528,
     "user": {
      "displayName": "Charlotte Mann",
      "userId": "00288824314437312782"
     },
     "user_tz": 240
    },
    "id": "mVU2OLmw30MT",
    "outputId": "77b23c1b-3b6e-4914-cea1-8ba5dad124e3"
   },
   "outputs": [],
   "source": [
    "ahrf_raw  <- read_fwf(\"../raw-data/AHRF/ahrf2021.asc\", \n",
    "  fwf_cols(stateFIPS = c(122,123), # 'state FIPS'\n",
    "            cntyFIPS = c(124,126), # 'county FIPS'\n",
    "            stateName = c(46,64),\n",
    "            cntyName = c(67,91),\n",
    "            pop_2020 = c(16844,16851), # 'population estimate'\n",
    "            pop_2019 = c(16852,16859),\n",
    "            pop_2018 = c(16860,16867),\n",
    "            pop_2010 = c(16924,16931), # 'census population\n",
    "            mort_2019 = c(23710,23715), # '3-Yr Total Deaths' 2017-19\n",
    "            pctUrban_2010 = c(20470, 20473), # 'Percent urban population'\n",
    "            vetPop_2020 = c(20556,20561), # 'veteran population estimate'\n",
    "            mdcrEnr_2019 = c(20687,20693), # medicare enrolment aged & disabled total'\n",
    "            mdcaidElig_2012 = c(21253,21260), # 'medicaid eligible (total)'\n",
    "            medIncome_2019 = c(24541,24546), # 'median household income'\n",
    "            pctPovty_2019 = c(25451,25454), # 'percent persons in poverty'\n",
    "            snap_2018 = c(26067,26073), # 'food stamp/SNAP recipients (estimate)'\n",
    "            pctNoIns_2019 = c(27390, 27393), # '% 18-64 without health insurance'     \n",
    "            unplmtRate_2020 = c(31715,31717), # '16+ unemployment rate'\n",
    "            popDens_2010 = c(31521, 31526) # 'population density'\n",
    "  ),\n",
    "  progress=FALSE\n",
    "  )"
   ]
  },
  {
   "cell_type": "code",
   "execution_count": null,
   "metadata": {
    "colab": {
     "base_uri": "https://localhost:8080/",
     "height": 306
    },
    "executionInfo": {
     "elapsed": 157,
     "status": "ok",
     "timestamp": 1652290059777,
     "user": {
      "displayName": "Charlotte Mann",
      "userId": "00288824314437312782"
     },
     "user_tz": 240
    },
    "id": "ujNQH3y541O_",
    "outputId": "03bac0cb-ca75-4b8c-e7d8-ca8bbd3fd1e2"
   },
   "outputs": [],
   "source": [
    "# the head command allows us to look at the first rows of the data\n",
    "head(ahrf_raw)"
   ]
  },
  {
   "cell_type": "markdown",
   "metadata": {
    "id": "iuU-1nVxNu3I"
   },
   "source": [
    "## Variables"
   ]
  },
  {
   "cell_type": "markdown",
   "metadata": {
    "id": "x2OMatDjK4uj"
   },
   "source": [
    "The first thing I notice is that all of the variables are read in as characters and they have leading zeros. \n",
    "\n",
    "**Check in:** How do you think we should treat these variables?"
   ]
  },
  {
   "cell_type": "markdown",
   "metadata": {
    "id": "e99c6LLGLwBr"
   },
   "source": [
    "To start, convert `medIncome_2019` to a numeric variable and summarize it. Do the values make sense?"
   ]
  },
  {
   "cell_type": "code",
   "execution_count": null,
   "metadata": {
    "colab": {
     "base_uri": "https://localhost:8080/",
     "height": 86
    },
    "executionInfo": {
     "elapsed": 182,
     "status": "ok",
     "timestamp": 1652290489880,
     "user": {
      "displayName": "Charlotte Mann",
      "userId": "00288824314437312782"
     },
     "user_tz": 240
    },
    "id": "EcLvvTkZL5Yg",
    "outputId": "399b2f58-8ede-4b19-c979-703d27d4b79f"
   },
   "outputs": [],
   "source": [
    "checkIncome <- as.numeric(ahrf_raw$medIncome_2019)\n",
    "summary(checkIncome)"
   ]
  },
  {
   "cell_type": "markdown",
   "metadata": {
    "id": "I5UpMHjuMC-D"
   },
   "source": [
    "These values seem reasonable, so it seems like we can convert these variables to numeric as a start.\n",
    "\n",
    "You probably got a warning message \"NAs introduced by coercion\". In this case, we are not worried about it, but it is always good to pause and check when you get a warning message!"
   ]
  },
  {
   "cell_type": "markdown",
   "metadata": {
    "id": "t84_wiQuM3Z_"
   },
   "source": [
    "To covert many variables to numeric, we can use `mutate` and `across` from the `dplyr` package. We will also practice using \"pipes\" `%>%`."
   ]
  },
  {
   "cell_type": "code",
   "execution_count": null,
   "metadata": {
    "id": "Z-8yRl3dM967"
   },
   "outputs": [],
   "source": [
    "?mutate"
   ]
  },
  {
   "cell_type": "code",
   "execution_count": null,
   "metadata": {
    "id": "OaQuGqcFTigJ"
   },
   "outputs": [],
   "source": [
    "ahrf_num1 <- mutate(ahrf_raw, across(pop_2020:popDens_2010, ~as.numeric(.x)))"
   ]
  },
  {
   "cell_type": "markdown",
   "metadata": {
    "id": "emOuMeeFTpjG"
   },
   "source": [
    "The pipe below tells R to put `ahrf_raw` in the first position of the `mutate` function, so they do the exact same thing. This is useful once you start combining many steps in an analysis."
   ]
  },
  {
   "cell_type": "code",
   "execution_count": null,
   "metadata": {
    "id": "duMvc5YrMft_"
   },
   "outputs": [],
   "source": [
    "ahrf_num <- ahrf_raw %>%\n",
    "mutate(across(pop_2020:popDens_2010, ~as.numeric(.x)))"
   ]
  },
  {
   "cell_type": "code",
   "execution_count": null,
   "metadata": {
    "colab": {
     "base_uri": "https://localhost:8080/",
     "height": 575
    },
    "executionInfo": {
     "elapsed": 156,
     "status": "ok",
     "timestamp": 1652292600692,
     "user": {
      "displayName": "Charlotte Mann",
      "userId": "00288824314437312782"
     },
     "user_tz": 240
    },
    "id": "Xs-AKIMsT_p4",
    "outputId": "cbd5986e-dc77-4d4e-c948-9cefc9ddd873"
   },
   "outputs": [],
   "source": [
    "head(ahrf_num)\n",
    "head(ahrf_num1)"
   ]
  },
  {
   "cell_type": "markdown",
   "metadata": {
    "id": "zW1YYfsNNMba"
   },
   "source": [
    "We can see that the code converted all of the variables of interest into numeric variables!\n",
    "\n",
    "**Check in:** Pause with your partner and talk about what the syntax of the code above meant. You might want to look at the documentation for `across`"
   ]
  },
  {
   "cell_type": "markdown",
   "metadata": {
    "id": "EXzjceu0PCqJ"
   },
   "source": [
    "Now, we can take a look at what all of the variables ranges are. \n",
    "\n",
    "**Check in:** Do you notice anything that doesn't seem quite right?"
   ]
  },
  {
   "cell_type": "code",
   "execution_count": null,
   "metadata": {
    "colab": {
     "base_uri": "https://localhost:8080/",
     "height": 711
    },
    "executionInfo": {
     "elapsed": 158,
     "status": "ok",
     "timestamp": 1652291259184,
     "user": {
      "displayName": "Charlotte Mann",
      "userId": "00288824314437312782"
     },
     "user_tz": 240
    },
    "id": "fRBoj06fOnoO",
    "outputId": "f40c72f0-3bc3-4167-9517-1abf75ba32b1"
   },
   "outputs": [],
   "source": [
    "summary(ahrf_num)"
   ]
  },
  {
   "cell_type": "markdown",
   "metadata": {
    "id": "aYmQFvZwOa0l"
   },
   "source": [
    "There are a couple of variables that should be percentages, but that have maximum values of 200 or 400! Looking back at the documentation, we can see that these variables had \"(.1)\" at the beginning of their description, indicating that we need to multiply them by .1 to get the correct values.\n",
    "\n",
    "We can use very similar code as above."
   ]
  },
  {
   "cell_type": "code",
   "execution_count": null,
   "metadata": {
    "colab": {
     "base_uri": "https://localhost:8080/",
     "height": 1000
    },
    "executionInfo": {
     "elapsed": 190,
     "status": "ok",
     "timestamp": 1652291552988,
     "user": {
      "displayName": "Charlotte Mann",
      "userId": "00288824314437312782"
     },
     "user_tz": 240
    },
    "id": "jfnTnZSOPjG5",
    "outputId": "7912e29b-5181-49da-aa78-284c2d19268d"
   },
   "outputs": [],
   "source": [
    "ahrf_cleaner <- ahrf_num %>%\n",
    "  mutate(across(starts_with(\"pct\")| starts_with(\"unplmt\"), ~.x*.1))\n",
    "\n",
    "head(ahrf_cleaner)\n",
    "summary(ahrf_cleaner)"
   ]
  },
  {
   "cell_type": "markdown",
   "metadata": {
    "id": "hDVQrKpLQGug"
   },
   "source": [
    "That makes more sense now!"
   ]
  },
  {
   "cell_type": "markdown",
   "metadata": {
    "id": "UOaw4EwqN5v_"
   },
   "source": [
    "Putting this all together, I am going to save a new data file called `ahrf` with the cleaned numeric variables.\n",
    "\n",
    "Using pipes is very useful because I have combined 4 steps here! It would be a lot more confusing to nest all of them.\n"
   ]
  },
  {
   "cell_type": "code",
   "execution_count": null,
   "metadata": {
    "id": "iPk339TSKxxJ"
   },
   "outputs": [],
   "source": [
    "ahrf <- ahrf_raw %>%\n",
    "  mutate(across(pop_2020:popDens_2010, ~as.numeric(.x))) %>%\n",
    "  mutate(across(starts_with(\"pct\")| starts_with(\"unplmt\"), ~.x*.1)) %>%\n",
    "  mutate(FIPS=paste0(sprintf('%s', stateFIPS), sprintf('%s', cntyFIPS))) %>%\n",
    "  select(FIPS, everything())"
   ]
  },
  {
   "cell_type": "markdown",
   "metadata": {
    "id": "0L-Oh6ZMQ-Ck"
   },
   "source": [
    "**Check in:** What do the last two lines of the code I included do?"
   ]
  },
  {
   "cell_type": "code",
   "execution_count": null,
   "metadata": {
    "colab": {
     "base_uri": "https://localhost:8080/",
     "height": 306
    },
    "executionInfo": {
     "elapsed": 184,
     "status": "ok",
     "timestamp": 1652292081709,
     "user": {
      "displayName": "Charlotte Mann",
      "userId": "00288824314437312782"
     },
     "user_tz": 240
    },
    "id": "JgW87UZESDoH",
    "outputId": "e75fdb9a-fd4a-4afd-c9e5-2fc0011d1fb0"
   },
   "outputs": [],
   "source": [
    "head(ahrf)"
   ]
  },
  {
   "cell_type": "markdown",
   "metadata": {
    "id": "N1jLSYRPNy_p"
   },
   "source": [
    "## Observations"
   ]
  },
  {
   "cell_type": "markdown",
   "metadata": {
    "id": "nPFuXw_OR4So"
   },
   "source": [
    "**Check in:** What does one observation in the data represent?"
   ]
  },
  {
   "cell_type": "markdown",
   "metadata": {
    "id": "i9CvtaVf5hv7"
   },
   "source": [
    "How many \"states\" are in the data?"
   ]
  },
  {
   "cell_type": "code",
   "execution_count": null,
   "metadata": {
    "colab": {
     "base_uri": "https://localhost:8080/",
     "height": 34
    },
    "executionInfo": {
     "elapsed": 171,
     "status": "ok",
     "timestamp": 1652285633935,
     "user": {
      "displayName": "Charlotte Mann",
      "userId": "00288824314437312782"
     },
     "user_tz": 240
    },
    "id": "Ka2jjLem5aJ7",
    "outputId": "26fc89a0-5d21-40cc-d8e3-11c6e5392c28"
   },
   "outputs": [],
   "source": [
    "length(unique(ahrf$stateFIPS))"
   ]
  },
  {
   "cell_type": "markdown",
   "metadata": {
    "id": "uftR2wZG5pyS"
   },
   "source": [
    "I thought there were only 50 states in the US? \n",
    "\n",
    "**Exercise:** Investigate why there are 54 state FIPS code in the data."
   ]
  },
  {
   "cell_type": "code",
   "execution_count": null,
   "metadata": {
    "id": "zHiajm4A5nId"
   },
   "outputs": [],
   "source": [
    "## YOUR CODE HERE ##"
   ]
  },
  {
   "cell_type": "markdown",
   "metadata": {
    "id": "qJLCu-UPHZnT"
   },
   "source": [
    "**Exercise:** Subset the data so that it only includes counties from the continental US. Assign this dataset as `ahrf_cont`.\n"
   ]
  },
  {
   "cell_type": "code",
   "execution_count": null,
   "metadata": {
    "id": "nyrQUoh2S0OO"
   },
   "outputs": [],
   "source": [
    "## YOUR CODE HERE ##"
   ]
  },
  {
   "cell_type": "markdown",
   "metadata": {
    "id": "4C-ten1rSgQR"
   },
   "source": [
    "We have what we will consider to be a \"tidy\" dataset, with the variables and observations that we would like. Save the data for use tomorrow."
   ]
  },
  {
   "cell_type": "code",
   "execution_count": null,
   "metadata": {},
   "outputs": [],
   "source": [
    "save(ahrf, file = \"../temp/ahrfDat.Rdata\")"
   ]
  },
  {
   "cell_type": "markdown",
   "metadata": {
    "id": "Tvo4p4TvUg5u"
   },
   "source": [
    "## Exploratory Data Analysis"
   ]
  },
  {
   "cell_type": "markdown",
   "metadata": {
    "id": "JP0vw6uucPnj"
   },
   "source": [
    "For the rest of our time, check out the tidy data! Some suggestions of things you could look at:\n",
    "\n",
    "\n",
    "1.  Variable missingness\n",
    "2.  Correlation between variables\n",
    "3.  Geographic patterns of variables\n",
    "4.  Summaries across states\n",
    "\n"
   ]
  },
  {
   "cell_type": "code",
   "execution_count": null,
   "metadata": {
    "id": "RS6-ovZOUiav"
   },
   "outputs": [],
   "source": [
    "## YOUR CODE HERE ##"
   ]
  }
 ],
 "metadata": {
  "colab": {
   "authorship_tag": "ABX9TyMAZaw7oaFHkKNCoaOZVeNr",
   "collapsed_sections": [],
   "name": "bdsi_6.20.22.ipynb",
   "provenance": []
  },
  "kernelspec": {
   "display_name": "R",
   "language": "R",
   "name": "ir"
  },
  "language_info": {
   "codemirror_mode": "r",
   "file_extension": ".r",
   "mimetype": "text/x-r-source",
   "name": "R",
   "pygments_lexer": "r",
   "version": "4.2.0"
  }
 },
 "nbformat": 4,
 "nbformat_minor": 1
}
