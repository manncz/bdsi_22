{
 "cells": [
  {
   "cell_type": "markdown",
   "id": "517568a4",
   "metadata": {},
   "source": [
    "# BDSI Data Mining Group\n",
    "# Day 3  - Example Modeling - 6/21/22"
   ]
  },
  {
   "cell_type": "code",
   "execution_count": null,
   "id": "f30f91f1",
   "metadata": {},
   "outputs": [],
   "source": [
    "library(tidyr)\n",
    "library(dplyr)\n",
    "library(stringr)\n",
    "library(ggplot2)\n",
    "library(repr)\n",
    "library(maps)\n",
    "library(randomForest)"
   ]
  },
  {
   "cell_type": "code",
   "execution_count": null,
   "id": "291e64b1",
   "metadata": {},
   "outputs": [],
   "source": [
    "load(\"../temp/overdoseDatFull.Rdata\")"
   ]
  },
  {
   "cell_type": "code",
   "execution_count": null,
   "id": "5ea9b48f",
   "metadata": {},
   "outputs": [],
   "source": [
    "head(dat)"
   ]
  },
  {
   "cell_type": "markdown",
   "id": "f1db0b70",
   "metadata": {},
   "source": [
    "## Modeling Mortality"
   ]
  },
  {
   "cell_type": "markdown",
   "id": "5c10fdee",
   "metadata": {},
   "source": [
    "### Random Forest"
   ]
  },
  {
   "cell_type": "code",
   "execution_count": null,
   "id": "e0289f00",
   "metadata": {},
   "outputs": [],
   "source": [
    "colnames(dat)"
   ]
  },
  {
   "cell_type": "code",
   "execution_count": null,
   "id": "2db6cce8",
   "metadata": {},
   "outputs": [],
   "source": [
    "mod.dat <- dat %>%\n",
    "    filter(year > 2005) %>%\n",
    "    mutate(year_cat = factor(year)) %>%\n",
    "    mutate(fentynol = as.numeric(year >= 2013)) %>%\n",
    "    select(-stateName, -stateFIPS, -year_cat, -mort, -stateAbr)"
   ]
  },
  {
   "cell_type": "markdown",
   "id": "014fc225",
   "metadata": {},
   "source": [
    "Random forest requires that you feed it data that has no missing values in the covariates or output. We can identify rows with complete cases (no missing values) using the `complete.cases` function. This returns a logical vecter the length of the data, which takes the value of `TRUE` if the row is not missing any data."
   ]
  },
  {
   "cell_type": "code",
   "execution_count": null,
   "id": "07572083",
   "metadata": {},
   "outputs": [],
   "source": [
    "cc <- complete.cases(mod.dat)"
   ]
  },
  {
   "cell_type": "markdown",
   "id": "1c2b3271",
   "metadata": {},
   "source": [
    "I'll fit a random forest model on all of the covariates first."
   ]
  },
  {
   "cell_type": "code",
   "execution_count": null,
   "id": "e7717681",
   "metadata": {},
   "outputs": [],
   "source": [
    "mod.rf <- randomForest(rate ~ ., importance = T, data = mod.dat[cc,])"
   ]
  },
  {
   "cell_type": "markdown",
   "id": "9a1b34cf",
   "metadata": {},
   "source": [
    "`print` gives me some information about the model fit - including that the R^2 of the model is almost 90%!"
   ]
  },
  {
   "cell_type": "code",
   "execution_count": null,
   "id": "16a33e7c",
   "metadata": {
    "scrolled": false
   },
   "outputs": [],
   "source": [
    "print(mod.rf)"
   ]
  },
  {
   "cell_type": "markdown",
   "id": "805ee049",
   "metadata": {},
   "source": [
    "While random forest models don't provide covariates for variables, we can still look at the relative importance of different covariates in the model."
   ]
  },
  {
   "cell_type": "code",
   "execution_count": null,
   "id": "a9169e92",
   "metadata": {
    "scrolled": true
   },
   "outputs": [],
   "source": [
    "mod.rf$importance"
   ]
  },
  {
   "cell_type": "code",
   "execution_count": null,
   "id": "6005a793",
   "metadata": {},
   "outputs": [],
   "source": [
    "imp = sort(mod.rf$importance[,2]/sum(mod.rf$importance[,2]),\n",
    "           decreasing = T) %>%\n",
    "    data.frame()\n",
    "\n",
    "imp$var <- rownames(imp)\n",
    "colnames(imp) <- c(\"imp\", \"var\")\n",
    "imp"
   ]
  },
  {
   "cell_type": "code",
   "execution_count": null,
   "id": "455c4bc3",
   "metadata": {},
   "outputs": [],
   "source": [
    "g <- ggplot(data=imp) + geom_col(aes(x=reorder(var,imp), y=imp), fill=\"#2C7BB6\")\n",
    "g + coord_flip() + xlab(\"Feature\") + ylab(\"Variable Importance (Standardized)\") +\n",
    "  theme(plot.title = element_text(hjust = 0.5), panel.border = element_blank(),\n",
    "        panel.grid.major = element_blank(),\n",
    "        panel.grid.minor = element_blank())"
   ]
  },
  {
   "cell_type": "markdown",
   "id": "9dd33259",
   "metadata": {},
   "source": [
    "The  most important variable is year, followed by unemployrment rate and whether or not ilicit Fentanol was in the US."
   ]
  },
  {
   "cell_type": "markdown",
   "id": "ece43220",
   "metadata": {},
   "source": [
    "I created a function so that I could see the general relationship between each variable and the outcome, holding all other variables constant."
   ]
  },
  {
   "cell_type": "code",
   "execution_count": null,
   "id": "1eddf567",
   "metadata": {},
   "outputs": [],
   "source": [
    "plot_var_funct_comb <- function(mod.obj, mod.var.names, plot.var, label, dat){\n",
    "  \n",
    "  #start the fake dataset to make predictions on a grid\n",
    "  n.var <- which(names(dat) == plot.var)\n",
    "  \n",
    "  \n",
    "  if(is.numeric(unlist(dat[,n.var]))){\n",
    "    fake.dat <- data.frame(var = seq(min(dat[,n.var]), max(dat[,n.var]), length.out = 1000))\n",
    "  }else{\n",
    "    fake.dat <- data.frame(var = factor(levels(as.factor(unlist(dat[,n.var])))))\n",
    "  }\n",
    "  #add the median value for all other variables\n",
    "  dat.vars = setdiff(mod.var.names, plot.var)\n",
    "  \n",
    "  for (var.name in dat.vars) {\n",
    "    #get variable location\n",
    "    n.var2 <- which(names(dat) == var.name)\n",
    "    \n",
    "    #if the variable is numeric, use the median\n",
    "    if(is.numeric(unlist(dat[,n.var2]))){\n",
    "      fake.dat <- fake.dat %>% \n",
    "      mutate(!!var.name := median(unlist(dat[,n.var2]), na.rm = T))\n",
    "    }else{ \n",
    "    #if the variable is categorical, use the most occurring value\n",
    "    fake.dat <- fake.dat %>% \n",
    "      mutate(!!var.name := factor(names(which(table(dat[,n.var2]) == max(table(dat[,n.var2]))))[1]))\n",
    "    }\n",
    "  }\n",
    "  \n",
    "  #fix the variable name for prediction\n",
    "  colnames(fake.dat)[1] <- plot.var\n",
    "  \n",
    "  #predictions based on median values and \n",
    "  fake.dat$pred <- predict(mod.obj, type = \"response\", newdata = fake.dat)\n",
    "  \n",
    "  #fix the variable name for plotting\n",
    "  colnames(fake.dat)[1] <- \"var\"\n",
    "  \n",
    "  #generate other plotting data with actual data values of variable and the predictions\n",
    "  plot.dat <- data.frame(var = dat[,n.var], pred = predict(mod.obj, type = \"response\"))\n",
    "  colnames(plot.dat)[1] <- \"var\"\n",
    "\n",
    "  #plot\n",
    "if(!is.numeric(unlist(dat[,n.var]))){\n",
    "  g <- ggplot() +\n",
    "    geom_boxplot(data = plot.dat,  aes(x = var, y = pred, group = var)) +\n",
    "    geom_point(data = fake.dat, aes(x = var, y = pred) ,color = \"blue\", size = 1) +\n",
    "    xlab(label) + ylab(\"Prediction\") + \n",
    "    theme(plot.title = element_text(hjust = 0.5), \n",
    "            panel.border = element_blank(),\n",
    "            panel.grid.minor = element_blank(),\n",
    "           axis.text.x = element_text(angle=45, hjust = 1)\n",
    "    )\n",
    "    }else{\n",
    "    g <- ggplot() +\n",
    "    geom_point(data = plot.dat,  aes(x = var, y = pred)) +\n",
    "    geom_point(data = fake.dat, aes(x = var, y = pred) ,color = \"blue\", size = 1) +\n",
    "    xlab(label) + ylab(\"Prediction\") + \n",
    "    theme(plot.title = element_text(hjust = 0.5), \n",
    "            panel.border = element_blank(),\n",
    "            panel.grid.minor = element_blank(),\n",
    "           axis.text.x = element_text(angle=45, hjust = 1))\n",
    "    }\n",
    "          \n",
    "  g\n",
    "  return(g)\n",
    "  \n",
    "}"
   ]
  },
  {
   "cell_type": "code",
   "execution_count": null,
   "id": "47ce92af",
   "metadata": {
    "scrolled": true
   },
   "outputs": [],
   "source": [
    "var.names <- rownames(mod.rf$importance)\n",
    "\n",
    "for(var in var.names){\n",
    "    p <- plot_var_funct_comb(mod.rf, var.names, var, var, mod.dat[cc,])\n",
    "    print(p)\n",
    "}"
   ]
  },
  {
   "cell_type": "markdown",
   "id": "fcdc51db",
   "metadata": {},
   "source": [
    "## GLM"
   ]
  },
  {
   "cell_type": "markdown",
   "id": "0a176d82",
   "metadata": {},
   "source": [
    "We can also look at trends using a linear model to get a better idea of variable relationships and do inference. "
   ]
  },
  {
   "cell_type": "code",
   "execution_count": null,
   "id": "f651047b",
   "metadata": {},
   "outputs": [],
   "source": [
    "mod.dat2 <- dat %>%\n",
    "    filter(year > 2005) %>%\n",
    "    mutate(year_cat = factor(year)) %>%\n",
    "    mutate(across(pctUrban_2010:popDens_2010, scale))"
   ]
  },
  {
   "cell_type": "markdown",
   "id": "09fa28ae",
   "metadata": {},
   "source": [
    "For modeling mortality outcomes, I use a poisson regression model, with a population offset. This is standard in the field to best model mortality outcomes."
   ]
  },
  {
   "cell_type": "markdown",
   "id": "299e76c2",
   "metadata": {},
   "source": [
    "I am going to start by just looking and year and opioid dispensing."
   ]
  },
  {
   "cell_type": "code",
   "execution_count": null,
   "id": "b993bfd8",
   "metadata": {},
   "outputs": [],
   "source": [
    "mod.simple <- glm(mort ~ year_cat + opioid_disp + opioid_disp*year_cat + \n",
    "                  offset(log(pop)), \n",
    "                  family = \"poisson\", data = mod.dat2)"
   ]
  },
  {
   "cell_type": "code",
   "execution_count": null,
   "id": "a2fb7b6d",
   "metadata": {},
   "outputs": [],
   "source": [
    "summary(mod.simple)"
   ]
  },
  {
   "cell_type": "markdown",
   "id": "b0f542c5",
   "metadata": {},
   "source": [
    "Now let's look at the model with all other factors included."
   ]
  },
  {
   "cell_type": "code",
   "execution_count": null,
   "id": "07b870ad",
   "metadata": {},
   "outputs": [],
   "source": [
    "mod.full <- glm(mort ~ year_cat + opioid_disp + opioid_disp*year_cat + \n",
    "                pctUrban_2010 + vetPop_2020 + mdcrEnr_2019 + mdcaidElig_2012 +\n",
    "                medIncome_2019 + pctPovty_2019 + pctNoIns_2019 +\n",
    "                unplmtRate_2020 + popDens_2010 +\n",
    "                offset(log(pop)), \n",
    "                family = \"poisson\", data = mod.dat2)"
   ]
  },
  {
   "cell_type": "code",
   "execution_count": null,
   "id": "64808a8c",
   "metadata": {
    "scrolled": true
   },
   "outputs": [],
   "source": [
    "summary(mod.full)"
   ]
  },
  {
   "cell_type": "markdown",
   "id": "3330c654",
   "metadata": {},
   "source": [
    "Given that the data is grouped by state, it makes sense to try adding random state effects. To do this, we will use the `lme4` package."
   ]
  },
  {
   "cell_type": "code",
   "execution_count": null,
   "id": "fccd1078",
   "metadata": {
    "scrolled": true
   },
   "outputs": [],
   "source": [
    "library(lme4)"
   ]
  },
  {
   "cell_type": "code",
   "execution_count": null,
   "id": "b69f0ddd",
   "metadata": {},
   "outputs": [],
   "source": [
    "lmer.full <- glmer(mort ~ year_cat + opioid_disp + opioid_disp*year_cat + \n",
    "                pctUrban_2010 + vetPop_2020 + mdcrEnr_2019 + mdcaidElig_2012 +\n",
    "                medIncome_2019 + pctPovty_2019 + pctNoIns_2019 +\n",
    "                unplmtRate_2020 + popDens_2010 +\n",
    "                offset(log(pop)) + (1|stateAbr), \n",
    "                family = \"poisson\", data = mod.dat2)"
   ]
  },
  {
   "cell_type": "code",
   "execution_count": null,
   "id": "6d8ef20f",
   "metadata": {},
   "outputs": [],
   "source": [
    "summary(lmer.full)"
   ]
  },
  {
   "cell_type": "markdown",
   "id": "86937e37",
   "metadata": {},
   "source": [
    "### Visualize coefficients"
   ]
  },
  {
   "cell_type": "markdown",
   "id": "1caba0cc",
   "metadata": {},
   "source": [
    "Especially with a log-linear model and interactions, it can be hard to interpret raw coefficients. To communicate what we have found more clearly, we can create visualizations of the coefficient estimates."
   ]
  },
  {
   "cell_type": "code",
   "execution_count": null,
   "id": "b2c5a0cc",
   "metadata": {},
   "outputs": [],
   "source": [
    "coef.df <- data.frame(summary(lmer.full)$coefficients)\n",
    "coef.df$var = row.names(coef.df)\n",
    "colnames(coef.df) <- c(\"est\", \"se\", \"t\", \"p\",\"var\")\n",
    "coef.df <- coef.df %>%\n",
    "  mutate(sig = ifelse(p < .05, \"Yes\", \"No\"),\n",
    "         coef.exp = exp(est))"
   ]
  },
  {
   "cell_type": "markdown",
   "id": "23d316bb",
   "metadata": {},
   "source": [
    "Look at the year and opioid dispersion interaction."
   ]
  },
  {
   "cell_type": "code",
   "execution_count": null,
   "id": "1d2363a6",
   "metadata": {},
   "outputs": [],
   "source": [
    "coef.base <- coef.df$est[coef.df$var == \"opioid_disp\"]\n",
    "disp.coef <- coef.df %>%\n",
    "    filter(str_detect(var, \"opioid\")) %>%\n",
    "    mutate(year = case_when(!str_detect(var, \"\\\\d{4}\")~ \"2006\",\n",
    "                            TRUE ~ str_extract(var, \"\\\\d{4}\")),\n",
    "          int.est = case_when(year == \"2006\" ~ est,\n",
    "                              TRUE ~ est+coef.base),\n",
    "          int.est.exp = exp(int.est),\n",
    "          sig = case_when(year == \"2006\" ~ \"NA\",\n",
    "                         TRUE ~ sig))"
   ]
  },
  {
   "cell_type": "code",
   "execution_count": null,
   "id": "10e7c5be",
   "metadata": {
    "scrolled": true
   },
   "outputs": [],
   "source": [
    "g <- ggplot(data=disp.coef, aes(x=factor(year))) + \n",
    "    geom_bar(aes(y=int.est.exp-1, fill = sig), stat =\"identity\", position=\"dodge\")\n",
    "g1 <- g + xlab(\"Year\") + ylab(\"Multiplicative Effect on Mortality - 1\") +\n",
    "  theme(plot.title = element_text(hjust = 0.5), panel.border = element_blank(),\n",
    "        #panel.grid.major = element_blank(),\n",
    "        panel.grid.minor = element_blank(),\n",
    "        axis.text.x = element_text(angle=45, hjust = 1)) +\n",
    "  scale_fill_manual(name = \"Interaction\\nsignificant?\", values = c(\"grey\",\"#fdae61\", \"#2C7BB6\"))\n",
    "g1"
   ]
  }
 ],
 "metadata": {
  "kernelspec": {
   "display_name": "R",
   "language": "R",
   "name": "ir"
  },
  "language_info": {
   "codemirror_mode": "r",
   "file_extension": ".r",
   "mimetype": "text/x-r-source",
   "name": "R",
   "pygments_lexer": "r",
   "version": "4.2.0"
  }
 },
 "nbformat": 4,
 "nbformat_minor": 5
}
