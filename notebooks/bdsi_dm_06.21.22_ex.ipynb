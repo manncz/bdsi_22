{
 "cells": [
  {
   "cell_type": "markdown",
   "metadata": {
    "id": "zBwa0iZLbpLa"
   },
   "source": [
    "# BDSI Data Mining Group\n",
    "# Day 1 - Exploring - 6/21/22"
   ]
  },
  {
   "cell_type": "markdown",
   "metadata": {
    "id": "ttEAqIy1VF77"
   },
   "source": [
    "Today will be be reading in and exploring a useful dataset which combines many different sources on population and health data. We will also use this time to start reviewing and practicing data cleaning in `R` as well as using Jupyter notebooks."
   ]
  },
  {
   "cell_type": "markdown",
   "metadata": {},
   "source": [
    "## Jupyter notebooks"
   ]
  },
  {
   "cell_type": "markdown",
   "metadata": {},
   "source": [
    "Take a moment to read [this](https://nbviewer.org/github/jupyter/notebook/blob/main/docs/source/examples/Notebook/Notebook%20Basics.ipynb) and practice adding a Markdown cell, a code cell, and then deleting both of them using shortcuts. This [website](https://towardsdatascience.com/jypyter-notebook-shortcuts-bf0101a98330) has a useful summary of shortcuts."
   ]
  },
  {
   "cell_type": "markdown",
   "metadata": {},
   "source": [
    "## R packages "
   ]
  },
  {
   "cell_type": "markdown",
   "metadata": {
    "id": "kPeMWtLSb504"
   },
   "source": [
    "We will use the packages `tidyr`, `dplyr`, and `stringr` for data cleaning and `ggplot2` for visualization. You can find nice cheatsheets for these different packages [here](https://www.rstudio.com/resources/cheatsheets/). Please download and save them in a place you will be able to find them!\n",
    "\n",
    "You will also get more formal review of these packages during morning lectures on Thursday and Friday."
   ]
  },
  {
   "cell_type": "code",
   "execution_count": 9,
   "metadata": {
    "colab": {
     "base_uri": "https://localhost:8080/"
    },
    "executionInfo": {
     "elapsed": 868,
     "status": "ok",
     "timestamp": 1652383437417,
     "user": {
      "displayName": "Charlotte Mann",
      "userId": "00288824314437312782"
     },
     "user_tz": 240
    },
    "id": "4NKwbSeMbalB",
    "outputId": "f6f32f51-92b4-4f25-83ec-a31e606c13a5",
    "scrolled": false
   },
   "outputs": [],
   "source": [
    "library(tidyr)\n",
    "library(dplyr)\n",
    "library(stringr)\n",
    "library(ggplot2)"
   ]
  },
  {
   "cell_type": "markdown",
   "metadata": {
    "id": "EdjDkr1pfBQH"
   },
   "source": [
    "## AHRF Data"
   ]
  },
  {
   "cell_type": "markdown",
   "metadata": {
    "id": "WXDJHkaGfa7j"
   },
   "source": [
    "We will be looking at the **Area Health Resources Files** provided by the Health Resources & Services Administration.\n",
    "\n",
    "From the [website](https://data.hrsa.gov/data/download): This dataset provides current as well as historic data for more than 6,000 variables for each of the nation’s counties, as well as state and national data. It contains information on health facilities, health professions, measures of resource scarcity, health status, economic activity, health training programs, and socioeconomic and environmental characteristics. In addition, the basic file contains geographic codes and descriptors which enable it to be linked to many other files and to aggregate counties into various geographic groupings. The Area Health Resources Files (AHRF) data are designed to be used by planners, policymakers, researchers, and others interested in the nation’s health care delivery system and factors that may impact health status and health care in the United States. The AHRF data includes county, state, and national-level files in eight broad areas: Health Care Professions, Health Facilities, Population Characteristics, Economics, Health Professions Training, Hospital Utilization, Hospital Expenditures, and Environment. The AHRF data are obtained from more than 60 sources. The AHRF has county, state, and national level files from the HRSA, Bureau of Health Workforce (BHW), National Center for Health Workforce Analysis (NCHWA) available for download."
   ]
  },
  {
   "cell_type": "markdown",
   "metadata": {
    "id": "DT3fku5bf8Ih"
   },
   "source": [
    "## Read In Data"
   ]
  },
  {
   "cell_type": "markdown",
   "metadata": {
    "id": "okvY9e3sgBO9"
   },
   "source": [
    "You can download the data from the group Canvas page. Once downloaded, place it in a folder called `AHRF` in your `raw-data` directory."
   ]
  },
  {
   "cell_type": "markdown",
   "metadata": {
    "id": "CHgJfcTE6GTl"
   },
   "source": [
    "From the documentation, we can see that the data is organized so that that each observation is a line of text and each variable takes up a specific number of characters in that line. We will use the `read_fwf` function from `readr` to read in data with this format."
   ]
  },
  {
   "cell_type": "code",
   "execution_count": 2,
   "metadata": {
    "executionInfo": {
     "elapsed": 519,
     "status": "ok",
     "timestamp": 1652383443525,
     "user": {
      "displayName": "Charlotte Mann",
      "userId": "00288824314437312782"
     },
     "user_tz": 240
    },
    "id": "EyQRdo-I4Hjh"
   },
   "outputs": [],
   "source": [
    "library(readr)\n",
    "?read_fwf"
   ]
  },
  {
   "cell_type": "markdown",
   "metadata": {
    "id": "swwZwxzG6mSO"
   },
   "source": [
    "In the code below, I matched the character locations of the variables with variable names that are meaningful to me. \n",
    "\n",
    "**Exercise:** Check out the documentation [here](https://umich.instructure.com/files/25817322/download?download_frd=1), and add the 2015-2019 \"Median Gross Rent\" variable. Call it `medRent_2019` and add it right after the `medIncome_2019` variable."
   ]
  },
  {
   "cell_type": "code",
   "execution_count": null,
   "metadata": {
    "colab": {
     "base_uri": "https://localhost:8080/"
    },
    "executionInfo": {
     "elapsed": 312,
     "status": "ok",
     "timestamp": 1652383476528,
     "user": {
      "displayName": "Charlotte Mann",
      "userId": "00288824314437312782"
     },
     "user_tz": 240
    },
    "id": "mVU2OLmw30MT",
    "outputId": "77b23c1b-3b6e-4914-cea1-8ba5dad124e3"
   },
   "outputs": [],
   "source": [
    "ahrf_raw  <- read_fwf(\"../raw-data/AHRF/ahrf2021.asc\", \n",
    "  fwf_cols(stateFIPS = c(122,123), # 'state FIPS'\n",
    "            cntyFIPS = c(124,126), # 'county FIPS'\n",
    "            stateName = c(46,64),\n",
    "            cntyName = c(67,91),\n",
    "            pop_2020 = c(16844,16851), # 'population estimate'\n",
    "            pop_2019 = c(16852,16859),\n",
    "            pop_2018 = c(16860,16867),\n",
    "            pop_2010 = c(16924,16931), # 'census population\n",
    "            mort_2019 = c(23710,23715), # '3-Yr Total Deaths' 2017-19\n",
    "            pctUrban_2010 = c(20470, 20473), # 'Percent urban population'\n",
    "            vetPop_2020 = c(20556,20561), # 'veteran population estimate'\n",
    "            mdcrEnr_2019 = c(20687,20693), # medicare enrolment aged & disabled total'\n",
    "            mdcaidElig_2012 = c(21253,21260), # 'medicaid eligible (total)'\n",
    "            medIncome_2019 = c(24541,24546), # 'median household income'\n",
    "            medRent_2019 = c(32195,32198), # 'median gross rent 2015-2019'   \n",
    "            pctPovty_2019 = c(25451,25454), # 'percent persons in poverty'\n",
    "            snap_2018 = c(26067,26073), # 'food stamp/SNAP recipients (estimate)'\n",
    "            pctNoIns_2019 = c(27390, 27393), # '% 18-64 without health insurance'     \n",
    "            unplmtRate_2020 = c(31715,31717), # '16+ unemployment rate'\n",
    "            popDens_2010 = c(31521, 31526) # 'population density'\n",
    "  ),\n",
    "  progress=FALSE\n",
    "  )"
   ]
  },
  {
   "cell_type": "code",
   "execution_count": null,
   "metadata": {
    "colab": {
     "base_uri": "https://localhost:8080/",
     "height": 306
    },
    "executionInfo": {
     "elapsed": 157,
     "status": "ok",
     "timestamp": 1652290059777,
     "user": {
      "displayName": "Charlotte Mann",
      "userId": "00288824314437312782"
     },
     "user_tz": 240
    },
    "id": "ujNQH3y541O_",
    "outputId": "03bac0cb-ca75-4b8c-e7d8-ca8bbd3fd1e2"
   },
   "outputs": [],
   "source": [
    "# the head command allows us to look at the first rows of the data\n",
    "head(ahrf_raw)"
   ]
  },
  {
   "cell_type": "markdown",
   "metadata": {
    "id": "iuU-1nVxNu3I"
   },
   "source": [
    "## Variables"
   ]
  },
  {
   "cell_type": "markdown",
   "metadata": {
    "id": "x2OMatDjK4uj"
   },
   "source": [
    "The first thing I notice is that all of the variables are read in as characters and they have leading zeros. \n",
    "\n",
    "**Check in:** How do you think we should treat these variables?"
   ]
  },
  {
   "cell_type": "markdown",
   "metadata": {
    "id": "e99c6LLGLwBr"
   },
   "source": [
    "To start, convert `medIncome_2019` to a numeric variable and summarize it. Do the values make sense?"
   ]
  },
  {
   "cell_type": "code",
   "execution_count": null,
   "metadata": {
    "colab": {
     "base_uri": "https://localhost:8080/",
     "height": 86
    },
    "executionInfo": {
     "elapsed": 182,
     "status": "ok",
     "timestamp": 1652290489880,
     "user": {
      "displayName": "Charlotte Mann",
      "userId": "00288824314437312782"
     },
     "user_tz": 240
    },
    "id": "EcLvvTkZL5Yg",
    "outputId": "399b2f58-8ede-4b19-c979-703d27d4b79f"
   },
   "outputs": [],
   "source": [
    "checkIncome <- as.numeric(ahrf_raw$medIncome_2019)\n",
    "summary(checkIncome)"
   ]
  },
  {
   "cell_type": "markdown",
   "metadata": {
    "id": "I5UpMHjuMC-D"
   },
   "source": [
    "These values seem reasonable, so it seems like we can convert these variables to numeric as a start.\n",
    "\n",
    "You probably got a warning message \"NAs introduced by coercion\". In this case, we are not worried about it, but it is always good to pause and check when you get a warning message!"
   ]
  },
  {
   "cell_type": "markdown",
   "metadata": {
    "id": "t84_wiQuM3Z_"
   },
   "source": [
    "To covert many variables to numeric, we can use `mutate` and `across` from the `dplyr` package. We will also practice using \"pipes\" `%>%`."
   ]
  },
  {
   "cell_type": "code",
   "execution_count": null,
   "metadata": {
    "id": "Z-8yRl3dM967"
   },
   "outputs": [],
   "source": [
    "?mutate"
   ]
  },
  {
   "cell_type": "code",
   "execution_count": null,
   "metadata": {
    "id": "OaQuGqcFTigJ"
   },
   "outputs": [],
   "source": [
    "ahrf_num1 <- mutate(ahrf_raw, across(pop_2020:popDens_2010, ~as.numeric(.x)))"
   ]
  },
  {
   "cell_type": "markdown",
   "metadata": {
    "id": "emOuMeeFTpjG"
   },
   "source": [
    "The pipe below tells R to put `ahrf_raw` in the first position of the `mutate` function, so they do the exact same thing. This is useful once you start combining many steps in an analysis."
   ]
  },
  {
   "cell_type": "code",
   "execution_count": null,
   "metadata": {
    "id": "duMvc5YrMft_"
   },
   "outputs": [],
   "source": [
    "ahrf_num <- ahrf_raw %>%\n",
    "mutate(across(pop_2020:popDens_2010, ~as.numeric(.x)))"
   ]
  },
  {
   "cell_type": "code",
   "execution_count": null,
   "metadata": {
    "colab": {
     "base_uri": "https://localhost:8080/",
     "height": 575
    },
    "executionInfo": {
     "elapsed": 156,
     "status": "ok",
     "timestamp": 1652292600692,
     "user": {
      "displayName": "Charlotte Mann",
      "userId": "00288824314437312782"
     },
     "user_tz": 240
    },
    "id": "Xs-AKIMsT_p4",
    "outputId": "cbd5986e-dc77-4d4e-c948-9cefc9ddd873"
   },
   "outputs": [],
   "source": [
    "head(ahrf_num)\n",
    "head(ahrf_num1)"
   ]
  },
  {
   "cell_type": "markdown",
   "metadata": {
    "id": "zW1YYfsNNMba"
   },
   "source": [
    "We can see that the code converted all of the variables of interest into numeric variables!\n",
    "\n",
    "**Check in:** Pause with your partner and talk about what the syntax of the code above meant. You might want to look at the documentation for `across`"
   ]
  },
  {
   "cell_type": "markdown",
   "metadata": {
    "id": "EXzjceu0PCqJ"
   },
   "source": [
    "Now, we can take a look at what all of the variables ranges are. \n",
    "\n",
    "**Check in:** Do you notice anything that doesn't seem quite right?"
   ]
  },
  {
   "cell_type": "code",
   "execution_count": null,
   "metadata": {
    "colab": {
     "base_uri": "https://localhost:8080/",
     "height": 711
    },
    "executionInfo": {
     "elapsed": 158,
     "status": "ok",
     "timestamp": 1652291259184,
     "user": {
      "displayName": "Charlotte Mann",
      "userId": "00288824314437312782"
     },
     "user_tz": 240
    },
    "id": "fRBoj06fOnoO",
    "outputId": "f40c72f0-3bc3-4167-9517-1abf75ba32b1"
   },
   "outputs": [],
   "source": [
    "summary(ahrf_num)"
   ]
  },
  {
   "cell_type": "markdown",
   "metadata": {
    "id": "aYmQFvZwOa0l"
   },
   "source": [
    "There are a couple of variables that should be percentages, but that have maximum values of 200 or 400! Looking back at the documentation, we can see that these variables had \"(.1)\" at the beginning of their description, indicating that we need to multiply them by .1 to get the correct values.\n",
    "\n",
    "We can use very similar code as above."
   ]
  },
  {
   "cell_type": "code",
   "execution_count": 11,
   "metadata": {
    "colab": {
     "base_uri": "https://localhost:8080/",
     "height": 1000
    },
    "executionInfo": {
     "elapsed": 190,
     "status": "ok",
     "timestamp": 1652291552988,
     "user": {
      "displayName": "Charlotte Mann",
      "userId": "00288824314437312782"
     },
     "user_tz": 240
    },
    "id": "jfnTnZSOPjG5",
    "outputId": "7912e29b-5181-49da-aa78-284c2d19268d"
   },
   "outputs": [
    {
     "ename": "ERROR",
     "evalue": "Error in mutate(., across(starts_with(\"pct\") | starts_with(\"unplmt\"), : object 'ahrf_num' not found\n",
     "output_type": "error",
     "traceback": [
      "Error in mutate(., across(starts_with(\"pct\") | starts_with(\"unplmt\"), : object 'ahrf_num' not found\nTraceback:\n",
      "1. ahrf_num %>% mutate(across(starts_with(\"pct\") | starts_with(\"unplmt\"), \n .     ~.x * 0.1))",
      "2. mutate(., across(starts_with(\"pct\") | starts_with(\"unplmt\"), \n .     ~.x * 0.1))"
     ]
    }
   ],
   "source": [
    "ahrf_cleaner <- ahrf_num %>%\n",
    "  mutate(across(starts_with(\"pct\")| starts_with(\"unplmt\"), ~.x*.1))\n",
    "\n",
    "head(ahrf_cleaner)\n",
    "summary(ahrf_cleaner)"
   ]
  },
  {
   "cell_type": "markdown",
   "metadata": {
    "id": "hDVQrKpLQGug"
   },
   "source": [
    "That makes more sense now!"
   ]
  },
  {
   "cell_type": "markdown",
   "metadata": {
    "id": "UOaw4EwqN5v_"
   },
   "source": [
    "Putting this all together, I am going to save a new data file called `ahrf` with the cleaned numeric variables.\n",
    "\n",
    "Using pipes is very useful because I have combined 4 steps here! It would be a lot more confusing to nest all of them.\n"
   ]
  },
  {
   "cell_type": "code",
   "execution_count": 12,
   "metadata": {
    "id": "iPk339TSKxxJ"
   },
   "outputs": [
    {
     "name": "stderr",
     "output_type": "stream",
     "text": [
      "Warning message in mask$eval_all_mutate(quo):\n",
      "“NAs introduced by coercion”\n",
      "Warning message in mask$eval_all_mutate(quo):\n",
      "“NAs introduced by coercion”\n",
      "Warning message in mask$eval_all_mutate(quo):\n",
      "“NAs introduced by coercion”\n",
      "Warning message in mask$eval_all_mutate(quo):\n",
      "“NAs introduced by coercion”\n",
      "Warning message in mask$eval_all_mutate(quo):\n",
      "“NAs introduced by coercion”\n",
      "Warning message in mask$eval_all_mutate(quo):\n",
      "“NAs introduced by coercion”\n",
      "Warning message in mask$eval_all_mutate(quo):\n",
      "“NAs introduced by coercion”\n",
      "Warning message in mask$eval_all_mutate(quo):\n",
      "“NAs introduced by coercion”\n",
      "Warning message in mask$eval_all_mutate(quo):\n",
      "“NAs introduced by coercion”\n",
      "Warning message in mask$eval_all_mutate(quo):\n",
      "“NAs introduced by coercion”\n",
      "Warning message in mask$eval_all_mutate(quo):\n",
      "“NAs introduced by coercion”\n",
      "Warning message in mask$eval_all_mutate(quo):\n",
      "“NAs introduced by coercion”\n",
      "Warning message in mask$eval_all_mutate(quo):\n",
      "“NAs introduced by coercion”\n",
      "Warning message in mask$eval_all_mutate(quo):\n",
      "“NAs introduced by coercion”\n",
      "Warning message in mask$eval_all_mutate(quo):\n",
      "“NAs introduced by coercion”\n"
     ]
    }
   ],
   "source": [
    "ahrf <- ahrf_raw %>%\n",
    "  mutate(across(pop_2020:popDens_2010, ~as.numeric(.x))) %>%\n",
    "  mutate(across(starts_with(\"pct\")| starts_with(\"unplmt\"), ~.x*.1)) %>%\n",
    "  mutate(FIPS=paste0(sprintf('%s', stateFIPS), sprintf('%s', cntyFIPS))) %>%\n",
    "  select(FIPS, everything())"
   ]
  },
  {
   "cell_type": "markdown",
   "metadata": {
    "id": "0L-Oh6ZMQ-Ck"
   },
   "source": [
    "**Check in:** What do the last two lines of the code I included do?"
   ]
  },
  {
   "cell_type": "code",
   "execution_count": 13,
   "metadata": {
    "colab": {
     "base_uri": "https://localhost:8080/",
     "height": 306
    },
    "executionInfo": {
     "elapsed": 184,
     "status": "ok",
     "timestamp": 1652292081709,
     "user": {
      "displayName": "Charlotte Mann",
      "userId": "00288824314437312782"
     },
     "user_tz": 240
    },
    "id": "JgW87UZESDoH",
    "outputId": "e75fdb9a-fd4a-4afd-c9e5-2fc0011d1fb0"
   },
   "outputs": [
    {
     "data": {
      "text/html": [
       "<table class=\"dataframe\">\n",
       "<caption>A tibble: 6 × 20</caption>\n",
       "<thead>\n",
       "\t<tr><th scope=col>FIPS</th><th scope=col>stateFIPS</th><th scope=col>cntyFIPS</th><th scope=col>stateName</th><th scope=col>cntyName</th><th scope=col>pop_2020</th><th scope=col>pop_2019</th><th scope=col>pop_2018</th><th scope=col>pop_2010</th><th scope=col>mort_2019</th><th scope=col>pctUrban_2010</th><th scope=col>vetPop_2020</th><th scope=col>mdcrEnr_2019</th><th scope=col>mdcaidElig_2012</th><th scope=col>medIncome_2019</th><th scope=col>pctPovty_2019</th><th scope=col>snap_2018</th><th scope=col>pctNoIns_2019</th><th scope=col>unplmtRate_2020</th><th scope=col>popDens_2010</th></tr>\n",
       "\t<tr><th scope=col>&lt;chr&gt;</th><th scope=col>&lt;chr&gt;</th><th scope=col>&lt;chr&gt;</th><th scope=col>&lt;chr&gt;</th><th scope=col>&lt;chr&gt;</th><th scope=col>&lt;dbl&gt;</th><th scope=col>&lt;dbl&gt;</th><th scope=col>&lt;dbl&gt;</th><th scope=col>&lt;dbl&gt;</th><th scope=col>&lt;dbl&gt;</th><th scope=col>&lt;dbl&gt;</th><th scope=col>&lt;dbl&gt;</th><th scope=col>&lt;dbl&gt;</th><th scope=col>&lt;dbl&gt;</th><th scope=col>&lt;dbl&gt;</th><th scope=col>&lt;dbl&gt;</th><th scope=col>&lt;dbl&gt;</th><th scope=col>&lt;dbl&gt;</th><th scope=col>&lt;dbl&gt;</th><th scope=col>&lt;dbl&gt;</th></tr>\n",
       "</thead>\n",
       "<tbody>\n",
       "\t<tr><td>01001</td><td>01</td><td>001</td><td>Alabama</td><td>Autauga</td><td> 56145</td><td> 55869</td><td> 55601</td><td> 54571</td><td> 536</td><td>58.0</td><td> 5746</td><td>11059</td><td>10029</td><td>58233</td><td>12.1</td><td> 7477</td><td>12.0</td><td>4.9</td><td>17300</td></tr>\n",
       "\t<tr><td>01003</td><td>01</td><td>003</td><td>Alabama</td><td>Baldwin</td><td>229287</td><td>223234</td><td>218022</td><td>182265</td><td>2276</td><td>57.7</td><td>19614</td><td>53490</td><td>32213</td><td>59871</td><td>10.1</td><td>19499</td><td>13.8</td><td>5.6</td><td>38480</td></tr>\n",
       "\t<tr><td>01005</td><td>01</td><td>005</td><td>Alabama</td><td>Barbour</td><td> 24589</td><td> 24686</td><td> 24881</td><td> 27457</td><td> 322</td><td>32.2</td><td> 1875</td><td> 6152</td><td> 8124</td><td>35972</td><td>27.1</td><td> 5898</td><td>16.8</td><td>7.0</td><td> 6100</td></tr>\n",
       "\t<tr><td>01007</td><td>01</td><td>007</td><td>Alabama</td><td>Bibb   </td><td> 22136</td><td> 22394</td><td> 22400</td><td> 22915</td><td> 270</td><td>31.6</td><td> 1283</td><td> 4713</td><td> 5629</td><td>47918</td><td>20.3</td><td> 3263</td><td>13.9</td><td>6.6</td><td> 5980</td></tr>\n",
       "\t<tr><td>01009</td><td>01</td><td>009</td><td>Alabama</td><td>Blount </td><td> 57879</td><td> 57826</td><td> 57840</td><td> 57322</td><td> 706</td><td>10.0</td><td> 3758</td><td>13044</td><td>11791</td><td>52902</td><td>16.3</td><td> 5760</td><td>18.1</td><td>4.1</td><td>10300</td></tr>\n",
       "\t<tr><td>01011</td><td>01</td><td>011</td><td>Alabama</td><td>Bullock</td><td>  9976</td><td> 10101</td><td> 10138</td><td> 10914</td><td> 118</td><td>48.6</td><td>  429</td><td> 2259</td><td> 3986</td><td>31906</td><td>30.0</td><td> 2697</td><td>14.8</td><td>5.5</td><td> 4150</td></tr>\n",
       "</tbody>\n",
       "</table>\n"
      ],
      "text/latex": [
       "A tibble: 6 × 20\n",
       "\\begin{tabular}{llllllllllllllllllll}\n",
       " FIPS & stateFIPS & cntyFIPS & stateName & cntyName & pop\\_2020 & pop\\_2019 & pop\\_2018 & pop\\_2010 & mort\\_2019 & pctUrban\\_2010 & vetPop\\_2020 & mdcrEnr\\_2019 & mdcaidElig\\_2012 & medIncome\\_2019 & pctPovty\\_2019 & snap\\_2018 & pctNoIns\\_2019 & unplmtRate\\_2020 & popDens\\_2010\\\\\n",
       " <chr> & <chr> & <chr> & <chr> & <chr> & <dbl> & <dbl> & <dbl> & <dbl> & <dbl> & <dbl> & <dbl> & <dbl> & <dbl> & <dbl> & <dbl> & <dbl> & <dbl> & <dbl> & <dbl>\\\\\n",
       "\\hline\n",
       "\t 01001 & 01 & 001 & Alabama & Autauga &  56145 &  55869 &  55601 &  54571 &  536 & 58.0 &  5746 & 11059 & 10029 & 58233 & 12.1 &  7477 & 12.0 & 4.9 & 17300\\\\\n",
       "\t 01003 & 01 & 003 & Alabama & Baldwin & 229287 & 223234 & 218022 & 182265 & 2276 & 57.7 & 19614 & 53490 & 32213 & 59871 & 10.1 & 19499 & 13.8 & 5.6 & 38480\\\\\n",
       "\t 01005 & 01 & 005 & Alabama & Barbour &  24589 &  24686 &  24881 &  27457 &  322 & 32.2 &  1875 &  6152 &  8124 & 35972 & 27.1 &  5898 & 16.8 & 7.0 &  6100\\\\\n",
       "\t 01007 & 01 & 007 & Alabama & Bibb    &  22136 &  22394 &  22400 &  22915 &  270 & 31.6 &  1283 &  4713 &  5629 & 47918 & 20.3 &  3263 & 13.9 & 6.6 &  5980\\\\\n",
       "\t 01009 & 01 & 009 & Alabama & Blount  &  57879 &  57826 &  57840 &  57322 &  706 & 10.0 &  3758 & 13044 & 11791 & 52902 & 16.3 &  5760 & 18.1 & 4.1 & 10300\\\\\n",
       "\t 01011 & 01 & 011 & Alabama & Bullock &   9976 &  10101 &  10138 &  10914 &  118 & 48.6 &   429 &  2259 &  3986 & 31906 & 30.0 &  2697 & 14.8 & 5.5 &  4150\\\\\n",
       "\\end{tabular}\n"
      ],
      "text/markdown": [
       "\n",
       "A tibble: 6 × 20\n",
       "\n",
       "| FIPS &lt;chr&gt; | stateFIPS &lt;chr&gt; | cntyFIPS &lt;chr&gt; | stateName &lt;chr&gt; | cntyName &lt;chr&gt; | pop_2020 &lt;dbl&gt; | pop_2019 &lt;dbl&gt; | pop_2018 &lt;dbl&gt; | pop_2010 &lt;dbl&gt; | mort_2019 &lt;dbl&gt; | pctUrban_2010 &lt;dbl&gt; | vetPop_2020 &lt;dbl&gt; | mdcrEnr_2019 &lt;dbl&gt; | mdcaidElig_2012 &lt;dbl&gt; | medIncome_2019 &lt;dbl&gt; | pctPovty_2019 &lt;dbl&gt; | snap_2018 &lt;dbl&gt; | pctNoIns_2019 &lt;dbl&gt; | unplmtRate_2020 &lt;dbl&gt; | popDens_2010 &lt;dbl&gt; |\n",
       "|---|---|---|---|---|---|---|---|---|---|---|---|---|---|---|---|---|---|---|---|\n",
       "| 01001 | 01 | 001 | Alabama | Autauga |  56145 |  55869 |  55601 |  54571 |  536 | 58.0 |  5746 | 11059 | 10029 | 58233 | 12.1 |  7477 | 12.0 | 4.9 | 17300 |\n",
       "| 01003 | 01 | 003 | Alabama | Baldwin | 229287 | 223234 | 218022 | 182265 | 2276 | 57.7 | 19614 | 53490 | 32213 | 59871 | 10.1 | 19499 | 13.8 | 5.6 | 38480 |\n",
       "| 01005 | 01 | 005 | Alabama | Barbour |  24589 |  24686 |  24881 |  27457 |  322 | 32.2 |  1875 |  6152 |  8124 | 35972 | 27.1 |  5898 | 16.8 | 7.0 |  6100 |\n",
       "| 01007 | 01 | 007 | Alabama | Bibb    |  22136 |  22394 |  22400 |  22915 |  270 | 31.6 |  1283 |  4713 |  5629 | 47918 | 20.3 |  3263 | 13.9 | 6.6 |  5980 |\n",
       "| 01009 | 01 | 009 | Alabama | Blount  |  57879 |  57826 |  57840 |  57322 |  706 | 10.0 |  3758 | 13044 | 11791 | 52902 | 16.3 |  5760 | 18.1 | 4.1 | 10300 |\n",
       "| 01011 | 01 | 011 | Alabama | Bullock |   9976 |  10101 |  10138 |  10914 |  118 | 48.6 |   429 |  2259 |  3986 | 31906 | 30.0 |  2697 | 14.8 | 5.5 |  4150 |\n",
       "\n"
      ],
      "text/plain": [
       "  FIPS  stateFIPS cntyFIPS stateName cntyName pop_2020 pop_2019 pop_2018\n",
       "1 01001 01        001      Alabama   Autauga   56145    55869    55601  \n",
       "2 01003 01        003      Alabama   Baldwin  229287   223234   218022  \n",
       "3 01005 01        005      Alabama   Barbour   24589    24686    24881  \n",
       "4 01007 01        007      Alabama   Bibb      22136    22394    22400  \n",
       "5 01009 01        009      Alabama   Blount    57879    57826    57840  \n",
       "6 01011 01        011      Alabama   Bullock    9976    10101    10138  \n",
       "  pop_2010 mort_2019 pctUrban_2010 vetPop_2020 mdcrEnr_2019 mdcaidElig_2012\n",
       "1  54571    536      58.0           5746       11059        10029          \n",
       "2 182265   2276      57.7          19614       53490        32213          \n",
       "3  27457    322      32.2           1875        6152         8124          \n",
       "4  22915    270      31.6           1283        4713         5629          \n",
       "5  57322    706      10.0           3758       13044        11791          \n",
       "6  10914    118      48.6            429        2259         3986          \n",
       "  medIncome_2019 pctPovty_2019 snap_2018 pctNoIns_2019 unplmtRate_2020\n",
       "1 58233          12.1           7477     12.0          4.9            \n",
       "2 59871          10.1          19499     13.8          5.6            \n",
       "3 35972          27.1           5898     16.8          7.0            \n",
       "4 47918          20.3           3263     13.9          6.6            \n",
       "5 52902          16.3           5760     18.1          4.1            \n",
       "6 31906          30.0           2697     14.8          5.5            \n",
       "  popDens_2010\n",
       "1 17300       \n",
       "2 38480       \n",
       "3  6100       \n",
       "4  5980       \n",
       "5 10300       \n",
       "6  4150       "
      ]
     },
     "metadata": {},
     "output_type": "display_data"
    }
   ],
   "source": [
    "head(ahrf)"
   ]
  },
  {
   "cell_type": "markdown",
   "metadata": {
    "id": "N1jLSYRPNy_p"
   },
   "source": [
    "## Observations"
   ]
  },
  {
   "cell_type": "markdown",
   "metadata": {
    "id": "nPFuXw_OR4So"
   },
   "source": [
    "**Check in:** What does one observation in the data represent?"
   ]
  },
  {
   "cell_type": "markdown",
   "metadata": {
    "id": "i9CvtaVf5hv7"
   },
   "source": [
    "How many \"states\" are in the data?"
   ]
  },
  {
   "cell_type": "code",
   "execution_count": 14,
   "metadata": {
    "colab": {
     "base_uri": "https://localhost:8080/",
     "height": 34
    },
    "executionInfo": {
     "elapsed": 171,
     "status": "ok",
     "timestamp": 1652285633935,
     "user": {
      "displayName": "Charlotte Mann",
      "userId": "00288824314437312782"
     },
     "user_tz": 240
    },
    "id": "Ka2jjLem5aJ7",
    "outputId": "26fc89a0-5d21-40cc-d8e3-11c6e5392c28"
   },
   "outputs": [
    {
     "data": {
      "text/html": [
       "54"
      ],
      "text/latex": [
       "54"
      ],
      "text/markdown": [
       "54"
      ],
      "text/plain": [
       "[1] 54"
      ]
     },
     "metadata": {},
     "output_type": "display_data"
    }
   ],
   "source": [
    "length(unique(ahrf$stateFIPS))"
   ]
  },
  {
   "cell_type": "markdown",
   "metadata": {
    "id": "uftR2wZG5pyS"
   },
   "source": [
    "I thought there were only 50 states in the US? \n",
    "\n",
    "**Exercise:** Investigate why there are 54 state FIPS code in the data."
   ]
  },
  {
   "cell_type": "code",
   "execution_count": 15,
   "metadata": {
    "id": "zHiajm4A5nId",
    "scrolled": false
   },
   "outputs": [
    {
     "data": {
      "text/plain": [
       "\n",
       "          Alabama            Alaska           Arizona          Arkansas \n",
       "               67                33                15                75 \n",
       "       California          Colorado       Connecticut          Delaware \n",
       "               58                64                 8                 3 \n",
       "Dist. of Columbia           Florida           Georgia              Guam \n",
       "                1                67               159                 1 \n",
       "           Hawaii             Idaho          Illinois           Indiana \n",
       "                5                44               102                92 \n",
       "             Iowa            Kansas          Kentucky         Louisiana \n",
       "               99               105               120                64 \n",
       "            Maine          Maryland     Massachusetts          Michigan \n",
       "               16                24                14                83 \n",
       "        Minnesota       Mississippi          Missouri           Montana \n",
       "               87                82               115                56 \n",
       "         Nebraska            Nevada     New Hampshire        New Jersey \n",
       "               93                17                10                21 \n",
       "       New Mexico          New York    North Carolina      North Dakota \n",
       "               33                62               100                53 \n",
       "             Ohio          Oklahoma            Oregon      Pennsylvania \n",
       "               88                77                36                67 \n",
       "      Puerto Rico      Rhode Island    South Carolina      South Dakota \n",
       "               78                 5                46                66 \n",
       "        Tennessee             Texas US Virgin Islands              Utah \n",
       "               95               254                 3                29 \n",
       "          Vermont          Virginia        Washington     West Virginia \n",
       "               14               135                39                55 \n",
       "        Wisconsin           Wyoming \n",
       "               72                23 "
      ]
     },
     "metadata": {},
     "output_type": "display_data"
    }
   ],
   "source": [
    "table(ahrf$stateName)"
   ]
  },
  {
   "cell_type": "markdown",
   "metadata": {},
   "source": [
    "The data includes DC, Guam, Puerto Rico, and the US Virgin Islands."
   ]
  },
  {
   "cell_type": "code",
   "execution_count": 16,
   "metadata": {},
   "outputs": [
    {
     "data": {
      "text/plain": [
       "\n",
       " 01  02  04  05  06  08  09  10  11  12  13  15  16  17  18  19  20  21  22  23 \n",
       " 67  33  15  75  58  64   8   3   1  67 159   5  44 102  92  99 105 120  64  16 \n",
       " 24  25  26  27  28  29  30  31  32  33  34  35  36  37  38  39  40  41  42  44 \n",
       " 24  14  83  87  82 115  56  93  17  10  21  33  62 100  53  88  77  36  67   5 \n",
       " 45  46  47  48  49  50  51  53  54  55  56  66  72  78 \n",
       " 46  66  95 254  29  14 135  39  55  72  23   1  78   3 "
      ]
     },
     "metadata": {},
     "output_type": "display_data"
    }
   ],
   "source": [
    "table(ahrf$stateFIPS)"
   ]
  },
  {
   "cell_type": "code",
   "execution_count": 17,
   "metadata": {},
   "outputs": [],
   "source": [
    "ahrf_cont <- ahrf %>%\n",
    "   filter(!(stateFIPS %in% c(\"66\", \"72\", \"78\", \"02\", \"15\")))"
   ]
  },
  {
   "cell_type": "markdown",
   "metadata": {
    "id": "4C-ten1rSgQR"
   },
   "source": [
    "Now we have what we will consider to be a \"tidy\" dataset, with the variables and observations that we would like. Save the data for use tomorrow."
   ]
  },
  {
   "cell_type": "code",
   "execution_count": null,
   "metadata": {},
   "outputs": [],
   "source": [
    "save(ahrf, file = \"../temp/ahrfDat.Rdata\")"
   ]
  },
  {
   "cell_type": "markdown",
   "metadata": {
    "id": "Tvo4p4TvUg5u"
   },
   "source": [
    "## Exploratory Data Analysis"
   ]
  },
  {
   "cell_type": "markdown",
   "metadata": {
    "id": "JP0vw6uucPnj"
   },
   "source": [
    "For the rest of our time, check out the tidy data! Some suggestions of things you could look at:\n",
    "\n",
    "\n",
    "1.  Variable missingness\n",
    "2.  Correlation between variables\n",
    "3.  Geographic patterns of variables\n",
    "4.  Summaries across states\n",
    "\n"
   ]
  },
  {
   "cell_type": "code",
   "execution_count": null,
   "metadata": {
    "id": "RS6-ovZOUiav"
   },
   "outputs": [],
   "source": [
    "## YOUR CODE HERE ##"
   ]
  }
 ],
 "metadata": {
  "colab": {
   "authorship_tag": "ABX9TyMAZaw7oaFHkKNCoaOZVeNr",
   "collapsed_sections": [],
   "name": "bdsi_6.20.22.ipynb",
   "provenance": []
  },
  "kernelspec": {
   "display_name": "R",
   "language": "R",
   "name": "ir"
  },
  "language_info": {
   "codemirror_mode": "r",
   "file_extension": ".r",
   "mimetype": "text/x-r-source",
   "name": "R",
   "pygments_lexer": "r",
   "version": "4.2.0"
  }
 },
 "nbformat": 4,
 "nbformat_minor": 1
}
